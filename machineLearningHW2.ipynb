{
  "nbformat": 4,
  "nbformat_minor": 0,
  "metadata": {
    "colab": {
      "provenance": [],
      "collapsed_sections": []
    },
    "kernelspec": {
      "name": "python3",
      "display_name": "Python 3"
    },
    "language_info": {
      "name": "python"
    }
  },
  "cells": [
    {
      "cell_type": "markdown",
      "metadata": {
        "id": "UKc8K9_57UEz"
      },
      "source": [
        "Fall 2022 - Homework 2\n",
        "\n",
        "# Due: Thursday, October 28, 2022 @ 11:59pm\n",
        "\n",
        "### Maximum points: 100 pts\n",
        "\n",
        "\n",
        "## Submit your solution to Gradescope:\n",
        "1. Submit a single PDF to **HW2**\n",
        "2. Submit your jupyter notebook to **HW2-code**\n",
        "\n",
        "Notice:\n",
        "In Markdown, when you write in LaTeX math mode, do not leave any leading and trailing whitespaces inside the dollar signs ($). For example, write `(dollarSign)\\mathbf(dollarSign)(dollarSign)` instead of `(dollarSign)(space)\\mathbf{w}(dollarSign)`. Otherwise, nbconvert will throw an error and the generated pdf will be incomplete. [This is a bug of nbconvert.](https://tex.stackexchange.com/questions/367176/jupyter-notebook-latex-conversion-fails-escaped-and-other-symbols)\n",
        "\n",
        "**See the additional submission instructions at the end of this notebook**"
      ]
    },
    {
      "cell_type": "markdown",
      "metadata": {
        "id": "JL5tIX4c9z6s"
      },
      "source": [
        "\n",
        "## Enter your information below:\n",
        "\n",
        "### Your Name (submitter): Alex\n",
        "    \n",
        "    \n",
        "<b>By submitting this notebook, I assert that the work below is my own work, completed for this course.  Except where explicitly cited, none of the portions of this notebook are duplicated from anyone else's work or my own previous work.</b>\n",
        "\n",
        "\n",
        "## Academic Integrity\n",
        "Each assignment should be done  individually. You may discuss general approaches with other students in the class, and ask questions to the TAs, but  you must only submit work that is yours . If you receive help by any external sources (other than the TA and the instructor), you must properly credit those sources, and if the help is significant, the appropriate grade reduction will be applied. If you fail to do so, the instructor and the TAs are obligated to take the appropriate actions outlined at http://conduct.ucr.edu/policies/academicintegrity.html . Please read carefully the UCR academic integrity policies included in the link.\n"
      ]
    },
    {
      "cell_type": "code",
      "metadata": {
        "id": "fJQhDvSz3BK9"
      },
      "source": [
        "# Standard library imports.\n",
        "import random as rand\n",
        "\n",
        "# Related third party imports.\n",
        "import numpy as np\n",
        "import pandas as pd\n",
        "import matplotlib.pyplot as plt\n",
        "import seaborn as sns\n",
        "from sklearn.model_selection import train_test_split \n",
        "\n",
        "# Local application/library specific imports.\n",
        "# import here if you write .py script "
      ],
      "execution_count": null,
      "outputs": []
    },
    {
      "cell_type": "markdown",
      "metadata": {
        "id": "EJZlrA-m3BK-"
      },
      "source": [
        "## Question 1: Linear Regression [70 pts]\n",
        "We will implement linear regression using direct solution and gradient descent. \n",
        "\n",
        "We will first attempt to predict output using a single attribute/feature. Then we will perform linear regression using multiple attributes/features. \n",
        "\n",
        "### Getting data\n",
        "In this assignment we will use the Boston housing dataset. \n",
        "\n",
        "The Boston housing data set was collected in the 1970s to study the relationship between house price and various factors such as the house size, crime rate, socio-economic status, etc.  Since the variables are easy to understand, the data set is ideal for learning basic concepts in machine learning.  The raw data and a complete description of the dataset can be found on the UCI website:\n",
        "\n",
        "https://archive.ics.uci.edu/ml/machine-learning-databases/housing/housing.names\n",
        "https://archive.ics.uci.edu/ml/machine-learning-databases/housing/housing.data\n",
        "\n",
        "or \n",
        "\n",
        "http://www.ccs.neu.edu/home/vip/teach/MLcourse/data/housing_desc.txt\n",
        "\n",
        "I have supplied a list `names` of the column headers.  You will have to set the options in the `read_csv` command to correctly delimit the data in the file and name the columns correctly."
      ]
    },
    {
      "cell_type": "code",
      "metadata": {
        "id": "_qYkXul83BK-",
        "colab": {
          "base_uri": "https://localhost:8080/",
          "height": 424
        },
        "outputId": "286c5d4e-c016-4946-b31d-fea37f7ca3c4"
      },
      "source": [
        "names = [\n",
        "    'CRIM', 'ZN', 'INDUS', 'CHAS', 'NOX', 'RM', \n",
        "    'AGE',  'DIS', 'RAD', 'TAX', 'PTRATIO', 'B', 'LSTAT', 'PRICE'\n",
        "]\n",
        "\n",
        "df = pd.read_csv('https://archive.ics.uci.edu/ml/machine-learning-databases/housing/housing.data',\n",
        "                 header=None,delim_whitespace=True,names=names,na_values='?')\n",
        "\n",
        "df"
      ],
      "execution_count": null,
      "outputs": [
        {
          "output_type": "execute_result",
          "data": {
            "text/plain": [
              "        CRIM    ZN  INDUS  CHAS    NOX     RM   AGE     DIS  RAD    TAX  \\\n",
              "0    0.00632  18.0   2.31     0  0.538  6.575  65.2  4.0900    1  296.0   \n",
              "1    0.02731   0.0   7.07     0  0.469  6.421  78.9  4.9671    2  242.0   \n",
              "2    0.02729   0.0   7.07     0  0.469  7.185  61.1  4.9671    2  242.0   \n",
              "3    0.03237   0.0   2.18     0  0.458  6.998  45.8  6.0622    3  222.0   \n",
              "4    0.06905   0.0   2.18     0  0.458  7.147  54.2  6.0622    3  222.0   \n",
              "..       ...   ...    ...   ...    ...    ...   ...     ...  ...    ...   \n",
              "501  0.06263   0.0  11.93     0  0.573  6.593  69.1  2.4786    1  273.0   \n",
              "502  0.04527   0.0  11.93     0  0.573  6.120  76.7  2.2875    1  273.0   \n",
              "503  0.06076   0.0  11.93     0  0.573  6.976  91.0  2.1675    1  273.0   \n",
              "504  0.10959   0.0  11.93     0  0.573  6.794  89.3  2.3889    1  273.0   \n",
              "505  0.04741   0.0  11.93     0  0.573  6.030  80.8  2.5050    1  273.0   \n",
              "\n",
              "     PTRATIO       B  LSTAT  PRICE  \n",
              "0       15.3  396.90   4.98   24.0  \n",
              "1       17.8  396.90   9.14   21.6  \n",
              "2       17.8  392.83   4.03   34.7  \n",
              "3       18.7  394.63   2.94   33.4  \n",
              "4       18.7  396.90   5.33   36.2  \n",
              "..       ...     ...    ...    ...  \n",
              "501     21.0  391.99   9.67   22.4  \n",
              "502     21.0  396.90   9.08   20.6  \n",
              "503     21.0  396.90   5.64   23.9  \n",
              "504     21.0  393.45   6.48   22.0  \n",
              "505     21.0  396.90   7.88   11.9  \n",
              "\n",
              "[506 rows x 14 columns]"
            ],
            "text/html": [
              "\n",
              "  <div id=\"df-e9da7e20-9ac9-44cd-9d2b-c2a2be01ed91\">\n",
              "    <div class=\"colab-df-container\">\n",
              "      <div>\n",
              "<style scoped>\n",
              "    .dataframe tbody tr th:only-of-type {\n",
              "        vertical-align: middle;\n",
              "    }\n",
              "\n",
              "    .dataframe tbody tr th {\n",
              "        vertical-align: top;\n",
              "    }\n",
              "\n",
              "    .dataframe thead th {\n",
              "        text-align: right;\n",
              "    }\n",
              "</style>\n",
              "<table border=\"1\" class=\"dataframe\">\n",
              "  <thead>\n",
              "    <tr style=\"text-align: right;\">\n",
              "      <th></th>\n",
              "      <th>CRIM</th>\n",
              "      <th>ZN</th>\n",
              "      <th>INDUS</th>\n",
              "      <th>CHAS</th>\n",
              "      <th>NOX</th>\n",
              "      <th>RM</th>\n",
              "      <th>AGE</th>\n",
              "      <th>DIS</th>\n",
              "      <th>RAD</th>\n",
              "      <th>TAX</th>\n",
              "      <th>PTRATIO</th>\n",
              "      <th>B</th>\n",
              "      <th>LSTAT</th>\n",
              "      <th>PRICE</th>\n",
              "    </tr>\n",
              "  </thead>\n",
              "  <tbody>\n",
              "    <tr>\n",
              "      <th>0</th>\n",
              "      <td>0.00632</td>\n",
              "      <td>18.0</td>\n",
              "      <td>2.31</td>\n",
              "      <td>0</td>\n",
              "      <td>0.538</td>\n",
              "      <td>6.575</td>\n",
              "      <td>65.2</td>\n",
              "      <td>4.0900</td>\n",
              "      <td>1</td>\n",
              "      <td>296.0</td>\n",
              "      <td>15.3</td>\n",
              "      <td>396.90</td>\n",
              "      <td>4.98</td>\n",
              "      <td>24.0</td>\n",
              "    </tr>\n",
              "    <tr>\n",
              "      <th>1</th>\n",
              "      <td>0.02731</td>\n",
              "      <td>0.0</td>\n",
              "      <td>7.07</td>\n",
              "      <td>0</td>\n",
              "      <td>0.469</td>\n",
              "      <td>6.421</td>\n",
              "      <td>78.9</td>\n",
              "      <td>4.9671</td>\n",
              "      <td>2</td>\n",
              "      <td>242.0</td>\n",
              "      <td>17.8</td>\n",
              "      <td>396.90</td>\n",
              "      <td>9.14</td>\n",
              "      <td>21.6</td>\n",
              "    </tr>\n",
              "    <tr>\n",
              "      <th>2</th>\n",
              "      <td>0.02729</td>\n",
              "      <td>0.0</td>\n",
              "      <td>7.07</td>\n",
              "      <td>0</td>\n",
              "      <td>0.469</td>\n",
              "      <td>7.185</td>\n",
              "      <td>61.1</td>\n",
              "      <td>4.9671</td>\n",
              "      <td>2</td>\n",
              "      <td>242.0</td>\n",
              "      <td>17.8</td>\n",
              "      <td>392.83</td>\n",
              "      <td>4.03</td>\n",
              "      <td>34.7</td>\n",
              "    </tr>\n",
              "    <tr>\n",
              "      <th>3</th>\n",
              "      <td>0.03237</td>\n",
              "      <td>0.0</td>\n",
              "      <td>2.18</td>\n",
              "      <td>0</td>\n",
              "      <td>0.458</td>\n",
              "      <td>6.998</td>\n",
              "      <td>45.8</td>\n",
              "      <td>6.0622</td>\n",
              "      <td>3</td>\n",
              "      <td>222.0</td>\n",
              "      <td>18.7</td>\n",
              "      <td>394.63</td>\n",
              "      <td>2.94</td>\n",
              "      <td>33.4</td>\n",
              "    </tr>\n",
              "    <tr>\n",
              "      <th>4</th>\n",
              "      <td>0.06905</td>\n",
              "      <td>0.0</td>\n",
              "      <td>2.18</td>\n",
              "      <td>0</td>\n",
              "      <td>0.458</td>\n",
              "      <td>7.147</td>\n",
              "      <td>54.2</td>\n",
              "      <td>6.0622</td>\n",
              "      <td>3</td>\n",
              "      <td>222.0</td>\n",
              "      <td>18.7</td>\n",
              "      <td>396.90</td>\n",
              "      <td>5.33</td>\n",
              "      <td>36.2</td>\n",
              "    </tr>\n",
              "    <tr>\n",
              "      <th>...</th>\n",
              "      <td>...</td>\n",
              "      <td>...</td>\n",
              "      <td>...</td>\n",
              "      <td>...</td>\n",
              "      <td>...</td>\n",
              "      <td>...</td>\n",
              "      <td>...</td>\n",
              "      <td>...</td>\n",
              "      <td>...</td>\n",
              "      <td>...</td>\n",
              "      <td>...</td>\n",
              "      <td>...</td>\n",
              "      <td>...</td>\n",
              "      <td>...</td>\n",
              "    </tr>\n",
              "    <tr>\n",
              "      <th>501</th>\n",
              "      <td>0.06263</td>\n",
              "      <td>0.0</td>\n",
              "      <td>11.93</td>\n",
              "      <td>0</td>\n",
              "      <td>0.573</td>\n",
              "      <td>6.593</td>\n",
              "      <td>69.1</td>\n",
              "      <td>2.4786</td>\n",
              "      <td>1</td>\n",
              "      <td>273.0</td>\n",
              "      <td>21.0</td>\n",
              "      <td>391.99</td>\n",
              "      <td>9.67</td>\n",
              "      <td>22.4</td>\n",
              "    </tr>\n",
              "    <tr>\n",
              "      <th>502</th>\n",
              "      <td>0.04527</td>\n",
              "      <td>0.0</td>\n",
              "      <td>11.93</td>\n",
              "      <td>0</td>\n",
              "      <td>0.573</td>\n",
              "      <td>6.120</td>\n",
              "      <td>76.7</td>\n",
              "      <td>2.2875</td>\n",
              "      <td>1</td>\n",
              "      <td>273.0</td>\n",
              "      <td>21.0</td>\n",
              "      <td>396.90</td>\n",
              "      <td>9.08</td>\n",
              "      <td>20.6</td>\n",
              "    </tr>\n",
              "    <tr>\n",
              "      <th>503</th>\n",
              "      <td>0.06076</td>\n",
              "      <td>0.0</td>\n",
              "      <td>11.93</td>\n",
              "      <td>0</td>\n",
              "      <td>0.573</td>\n",
              "      <td>6.976</td>\n",
              "      <td>91.0</td>\n",
              "      <td>2.1675</td>\n",
              "      <td>1</td>\n",
              "      <td>273.0</td>\n",
              "      <td>21.0</td>\n",
              "      <td>396.90</td>\n",
              "      <td>5.64</td>\n",
              "      <td>23.9</td>\n",
              "    </tr>\n",
              "    <tr>\n",
              "      <th>504</th>\n",
              "      <td>0.10959</td>\n",
              "      <td>0.0</td>\n",
              "      <td>11.93</td>\n",
              "      <td>0</td>\n",
              "      <td>0.573</td>\n",
              "      <td>6.794</td>\n",
              "      <td>89.3</td>\n",
              "      <td>2.3889</td>\n",
              "      <td>1</td>\n",
              "      <td>273.0</td>\n",
              "      <td>21.0</td>\n",
              "      <td>393.45</td>\n",
              "      <td>6.48</td>\n",
              "      <td>22.0</td>\n",
              "    </tr>\n",
              "    <tr>\n",
              "      <th>505</th>\n",
              "      <td>0.04741</td>\n",
              "      <td>0.0</td>\n",
              "      <td>11.93</td>\n",
              "      <td>0</td>\n",
              "      <td>0.573</td>\n",
              "      <td>6.030</td>\n",
              "      <td>80.8</td>\n",
              "      <td>2.5050</td>\n",
              "      <td>1</td>\n",
              "      <td>273.0</td>\n",
              "      <td>21.0</td>\n",
              "      <td>396.90</td>\n",
              "      <td>7.88</td>\n",
              "      <td>11.9</td>\n",
              "    </tr>\n",
              "  </tbody>\n",
              "</table>\n",
              "<p>506 rows × 14 columns</p>\n",
              "</div>\n",
              "      <button class=\"colab-df-convert\" onclick=\"convertToInteractive('df-e9da7e20-9ac9-44cd-9d2b-c2a2be01ed91')\"\n",
              "              title=\"Convert this dataframe to an interactive table.\"\n",
              "              style=\"display:none;\">\n",
              "        \n",
              "  <svg xmlns=\"http://www.w3.org/2000/svg\" height=\"24px\"viewBox=\"0 0 24 24\"\n",
              "       width=\"24px\">\n",
              "    <path d=\"M0 0h24v24H0V0z\" fill=\"none\"/>\n",
              "    <path d=\"M18.56 5.44l.94 2.06.94-2.06 2.06-.94-2.06-.94-.94-2.06-.94 2.06-2.06.94zm-11 1L8.5 8.5l.94-2.06 2.06-.94-2.06-.94L8.5 2.5l-.94 2.06-2.06.94zm10 10l.94 2.06.94-2.06 2.06-.94-2.06-.94-.94-2.06-.94 2.06-2.06.94z\"/><path d=\"M17.41 7.96l-1.37-1.37c-.4-.4-.92-.59-1.43-.59-.52 0-1.04.2-1.43.59L10.3 9.45l-7.72 7.72c-.78.78-.78 2.05 0 2.83L4 21.41c.39.39.9.59 1.41.59.51 0 1.02-.2 1.41-.59l7.78-7.78 2.81-2.81c.8-.78.8-2.07 0-2.86zM5.41 20L4 18.59l7.72-7.72 1.47 1.35L5.41 20z\"/>\n",
              "  </svg>\n",
              "      </button>\n",
              "      \n",
              "  <style>\n",
              "    .colab-df-container {\n",
              "      display:flex;\n",
              "      flex-wrap:wrap;\n",
              "      gap: 12px;\n",
              "    }\n",
              "\n",
              "    .colab-df-convert {\n",
              "      background-color: #E8F0FE;\n",
              "      border: none;\n",
              "      border-radius: 50%;\n",
              "      cursor: pointer;\n",
              "      display: none;\n",
              "      fill: #1967D2;\n",
              "      height: 32px;\n",
              "      padding: 0 0 0 0;\n",
              "      width: 32px;\n",
              "    }\n",
              "\n",
              "    .colab-df-convert:hover {\n",
              "      background-color: #E2EBFA;\n",
              "      box-shadow: 0px 1px 2px rgba(60, 64, 67, 0.3), 0px 1px 3px 1px rgba(60, 64, 67, 0.15);\n",
              "      fill: #174EA6;\n",
              "    }\n",
              "\n",
              "    [theme=dark] .colab-df-convert {\n",
              "      background-color: #3B4455;\n",
              "      fill: #D2E3FC;\n",
              "    }\n",
              "\n",
              "    [theme=dark] .colab-df-convert:hover {\n",
              "      background-color: #434B5C;\n",
              "      box-shadow: 0px 1px 3px 1px rgba(0, 0, 0, 0.15);\n",
              "      filter: drop-shadow(0px 1px 2px rgba(0, 0, 0, 0.3));\n",
              "      fill: #FFFFFF;\n",
              "    }\n",
              "  </style>\n",
              "\n",
              "      <script>\n",
              "        const buttonEl =\n",
              "          document.querySelector('#df-e9da7e20-9ac9-44cd-9d2b-c2a2be01ed91 button.colab-df-convert');\n",
              "        buttonEl.style.display =\n",
              "          google.colab.kernel.accessAllowed ? 'block' : 'none';\n",
              "\n",
              "        async function convertToInteractive(key) {\n",
              "          const element = document.querySelector('#df-e9da7e20-9ac9-44cd-9d2b-c2a2be01ed91');\n",
              "          const dataTable =\n",
              "            await google.colab.kernel.invokeFunction('convertToInteractive',\n",
              "                                                     [key], {});\n",
              "          if (!dataTable) return;\n",
              "\n",
              "          const docLinkHtml = 'Like what you see? Visit the ' +\n",
              "            '<a target=\"_blank\" href=https://colab.research.google.com/notebooks/data_table.ipynb>data table notebook</a>'\n",
              "            + ' to learn more about interactive tables.';\n",
              "          element.innerHTML = '';\n",
              "          dataTable['output_type'] = 'display_data';\n",
              "          await google.colab.output.renderOutput(dataTable, element);\n",
              "          const docLink = document.createElement('div');\n",
              "          docLink.innerHTML = docLinkHtml;\n",
              "          element.appendChild(docLink);\n",
              "        }\n",
              "      </script>\n",
              "    </div>\n",
              "  </div>\n",
              "  "
            ]
          },
          "metadata": {},
          "execution_count": 2
        }
      ]
    },
    {
      "cell_type": "markdown",
      "metadata": {
        "id": "eayVrVtUI3zo"
      },
      "source": [
        "### Basic Manipulations on the Data\n",
        "\n",
        "What is the shape of the data?  How many attributes are there?  How many samples?\n",
        "Print a statement of the form:\n",
        "\n",
        "    num samples=xxx, num attributes=yy"
      ]
    },
    {
      "cell_type": "code",
      "source": [
        "#number of samples is the amount of rows\n",
        "print(\"num samples=\", end='')\n",
        "print(len(df.index), end='')\n",
        "print(', ', end='')\n",
        "\n",
        "print(\"num attributes=\", end='')\n",
        "print(len(df.columns), end='')\n",
        "print(',', end ='')\n",
        "\n",
        "numRows = len(df.index)\n",
        "numFeatures = len(df.columns)\n",
        "\n",
        "print(\" data shape= \", end ='')\n",
        "print(numRows, 'x', numFeatures )"
      ],
      "metadata": {
        "colab": {
          "base_uri": "https://localhost:8080/"
        },
        "id": "65NWhTlTK0fp",
        "outputId": "301e6bab-61cc-4c44-81d1-1486da9579b5"
      },
      "execution_count": null,
      "outputs": [
        {
          "output_type": "stream",
          "name": "stdout",
          "text": [
            "num samples=506, num attributes=14, data shape= 506 x 14\n"
          ]
        }
      ]
    },
    {
      "cell_type": "markdown",
      "metadata": {
        "id": "8UULkMygXPpd"
      },
      "source": [
        "In order to properly test linear regression, we first need to find a set of correlated variables, so that we use one to predict the other. Consider the following scatterplots:"
      ]
    },
    {
      "cell_type": "code",
      "metadata": {
        "id": "xuGIgMu93BK_",
        "colab": {
          "base_uri": "https://localhost:8080/",
          "height": 567
        },
        "outputId": "de479ae8-1c72-47d5-a1ef-1d8b10187f42"
      },
      "source": [
        "# RM - average number of rooms per dwelling\n",
        "# LSTAT - % lower status of the population\n",
        "\n",
        "sns.pairplot(df[['RM','LSTAT','PRICE']])"
      ],
      "execution_count": null,
      "outputs": [
        {
          "output_type": "execute_result",
          "data": {
            "text/plain": [
              "<seaborn.axisgrid.PairGrid at 0x7fe16676efd0>"
            ]
          },
          "metadata": {},
          "execution_count": 4
        },
        {
          "output_type": "display_data",
          "data": {
            "text/plain": [
              "<Figure size 540x540 with 12 Axes>"
            ],
            "image/png": "[encoded data removed]"
          },
          "metadata": {
            "needs_background": "light"
          }
        }
      ]
    },
    {
      "cell_type": "markdown",
      "metadata": {
        "id": "ywadWSHsYEZd"
      },
      "source": [
        "Create a response vector `y` with the values in the column `PRICE`.  The vector `y` should be a 1D `numpy.array` structure."
      ]
    },
    {
      "cell_type": "code",
      "metadata": {
        "id": "p2-zIA5vYOHA"
      },
      "source": [
        "# TODO \n",
        "y = df['PRICE']\n",
        "y = np.array(y)\n",
        "\n",
        "#print(y)"
      ],
      "execution_count": null,
      "outputs": []
    },
    {
      "cell_type": "markdown",
      "metadata": {
        "id": "l9UHZEggYKd0"
      },
      "source": [
        "Use the response vector `y` to find the mean house price in thousands and the fraction of homes that are above $40k. (You may realize this is very cheap.  Prices have gone up a lot since the 1970s!).   Create print statements of the form:\n",
        "\n",
        "    The mean house price is xx.yy thousands of dollars.\n",
        "    Only x.y percent are above $40k."
      ]
    },
    {
      "cell_type": "code",
      "metadata": {
        "id": "265qk4h2YUrc",
        "colab": {
          "base_uri": "https://localhost:8080/"
        },
        "outputId": "fbd29150-6cc6-4e08-d381-96a2f22635a3"
      },
      "source": [
        "# TODO \n",
        "house_price_mean = np.mean(y)\n",
        "print('The mean house price is ', end = '')\n",
        "house_price_mean = round(house_price_mean, 2) * 1000\n",
        "print('$', end='')\n",
        "print(house_price_mean ,'thousands of dollars.')\n",
        "\n",
        "above_40k_cnt = 0\n",
        "\n",
        "for i in y :\n",
        "  if i > 40.0 :\n",
        "    above_40k_cnt += 1\n",
        "\n",
        "frac_above_40k = (above_40k_cnt / len(y)) * 100\n",
        "frac_above_40k = round(frac_above_40k, 0)\n",
        "print('Only', frac_above_40k, 'percent are above $40k.')\n"
      ],
      "execution_count": null,
      "outputs": [
        {
          "output_type": "stream",
          "name": "stdout",
          "text": [
            "The mean house price is $22530.0 thousands of dollars.\n",
            "Only 6.0 percent are above $40k.\n"
          ]
        }
      ]
    },
    {
      "cell_type": "markdown",
      "metadata": {
        "id": "_zeK-Qoc0TXu"
      },
      "source": [
        "### Visualizing the Data\n",
        "\n",
        "Python's `matplotlib` has very good routines for plotting and visualizing data that closely follows the format of MATLAB programs.  You can load the `matplotlib` package with the following commands."
      ]
    },
    {
      "cell_type": "code",
      "metadata": {
        "collapsed": true,
        "id": "O5Hn63Id0TXu"
      },
      "source": [
        "import matplotlib\n",
        "import matplotlib.pyplot as plt\n",
        "%matplotlib inline"
      ],
      "execution_count": null,
      "outputs": []
    },
    {
      "cell_type": "markdown",
      "metadata": {
        "id": "A8BLgPQQ0TXv"
      },
      "source": [
        "Similar to the `y` vector, create a predictor vector `x` containing the values in the `RM` column, which represents the average number of rooms in each region."
      ]
    },
    {
      "cell_type": "code",
      "metadata": {
        "collapsed": true,
        "id": "wvkiFOUP0TXv"
      },
      "source": [
        "# TODO\n",
        "x = np.array(df['RM'])\n",
        "#print(x)"
      ],
      "execution_count": null,
      "outputs": []
    },
    {
      "cell_type": "markdown",
      "metadata": {
        "id": "nZfFM3_z0TXv"
      },
      "source": [
        "Create a scatter plot of the price vs. the `RM` attribute.  Make sure your plot has grid lines and label the axes with reasonable labels so that someone else can understand the plot."
      ]
    },
    {
      "cell_type": "code",
      "metadata": {
        "collapsed": true,
        "id": "DXkjMSpY0TXv",
        "colab": {
          "base_uri": "https://localhost:8080/",
          "height": 295
        },
        "outputId": "f03f0de6-1627-4987-fe7f-802222c5613e"
      },
      "source": [
        "# TODO\n",
        "plt.title('The Effect of Room Numbers on Price')\n",
        "plt.xlabel('Average Number of Rooms')\n",
        "plt.ylabel('Price (in thousands of dollars)')\n",
        "plt.grid()\n",
        "plt.scatter(x, y)\n",
        "plt.show()\n"
      ],
      "execution_count": null,
      "outputs": [
        {
          "output_type": "display_data",
          "data": {
            "text/plain": [
              "<Figure size 432x288 with 1 Axes>"
            ],
            "image/png": "[encoded data removed]"
          },
          "metadata": {
            "needs_background": "light"
          }
        }
      ]
    },
    {
      "cell_type": "markdown",
      "metadata": {
        "id": "JJ6l2LRjvrEV"
      },
      "source": [
        "The number of rooms and price seem to have a linear trend, so let us try to predict price using number of rooms first. "
      ]
    },
    {
      "cell_type": "markdown",
      "metadata": {
        "id": "G-5e_O4x0TXv"
      },
      "source": [
        "### Question 1a. Derivation of a simple linear model for a single feature [10 pts]\n",
        "Suppose we have $N$ pairs of training samples $(x_1,y_1),\\ldots, (x_N,y_N)$, where $x_i \\in \\mathbb{R}$ and $y_i \\in \\mathbb{R}$. \n",
        "\n",
        "We want to perform a linear fit for this 1D data as \n",
        "$$y = wx+b,$$\n",
        "where $w\\in \\mathbb{R}$ and $b\\in \\mathbb{R}$. \n",
        "\n",
        "In the class, we looked at the derivation of optimal value of $w$ when $b=0$. The squared loss function can be written as  $$L(w) = \\sum_{i=1}^N(w x_i -y_i)^2,$$ and the optimal value of $w*$ that minimizes $L(w)$ can be written as $$w^* = (\\sum_{i=1}^N x_i^2)^{-1}(\\sum_{i=1}^N x_i y_i)$$. \n",
        "\n",
        "\n",
        "Now let us include $b$ in our model. Show that the optimal values of $w^*,b^*$ that minimize the loss function \n",
        "$$L(w,b) = \\sum_{i=1}^N(wx_i + b -y_i)^2$$ \n",
        "can be written as \n",
        "$$w^* = (\\sum_i (x_i - \\bar{x})^2)^{-1}(\\sum_i (x_i-\\bar{x})(y_i-\\bar{y}))$$\n",
        "and $$b^* = \\bar{y} - w^*\\bar{x},$$\n",
        "where $\\bar{x} = \\frac{1}{N}\\sum_i x_i, \\bar{y} = \\frac{1}{N}\\sum_i y_i$ are mean values of $x_i,y_i$, respectively. \n",
        "\n"
      ]
    },
    {
      "cell_type": "markdown",
      "metadata": {
        "id": "JXgc6X6nnCxf"
      },
      "source": [
        "**TODO: Your derivation goes here.**\n",
        "\n",
        "\n",
        "\n",
        "\n",
        "*   *Hint. Set the partial derivative of $L(w,b)$ with respect to $w$ and $b$ to zero.*\n",
        "*   Type using latex commands and explain your steps\n",
        "\n",
        "$$\\frac{d}{dw} ( wx + b - y)^2 $$\n",
        "$$\\frac{d}{dw}(wx + b - y)^2 = 2(wx+b-y)(w) $$\n",
        "$$w* = 2(wx+b-y)(w) = 0$$\n",
        "$$b = y - wx$$\n",
        "\n",
        "$$\\frac{d}{db}(wx + b - y)^2$$\n",
        "$$b* = 2(wx + b -y) $$\n",
        "\n"
      ]
    },
    {
      "cell_type": "markdown",
      "metadata": {
        "id": "v6wR2wx9nHRG"
      },
      "source": [
        "### Question 1b. Fitting a linear model using a single feature [10 pts] \n",
        "\n",
        "Next we will write a function to perform a linear fit. Use the formulae above to compute the parameters $w,b$ in the linear model $y = wx + b$."
      ]
    },
    {
      "cell_type": "code",
      "metadata": {
        "collapsed": true,
        "id": "HA-PyCGR0TXv"
      },
      "source": [
        "def fit_linear(x,y):\n",
        "    \"\"\"\n",
        "    Given vectors of data points (x,y), performs a fit for the linear model:\n",
        "       yhat = w*x + b, \n",
        "    The function returns w and b\n",
        "    \"\"\"\n",
        "    # TODO complete the code below\n",
        "    mean_y =np.mean(y)\n",
        "    mean_x = np.mean(x)   \n",
        "\n",
        "    xi_sub_xbar = 0\n",
        "    for i in range (len(x)) :\n",
        "      xi_sub_xbar = xi_sub_xbar + (x[i] - mean_x)**2\n",
        "\n",
        "    xi_sub_xbar = xi_sub_xbar**-1 #first part of w*\n",
        "\n",
        "\n",
        "    yi_sub_ybar = 0\n",
        "    xi_sub_xbar_2nd_half = 0\n",
        "\n",
        "    xi_mult_yi_sum = 0\n",
        "\n",
        "    for i in range (len(x)) : #for second half of w*\n",
        "      yi_sub_ybar = y[i] - mean_y\n",
        "      xi_sub_xbar_2nd_half = x[i] - mean_x\n",
        "\n",
        "      xi_mult_yi_sum = xi_mult_yi_sum + yi_sub_ybar * xi_sub_xbar_2nd_half\n",
        "\n",
        "    w = xi_sub_xbar * xi_mult_yi_sum\n",
        "\n",
        "    \n",
        "    #b* depends on  w*\n",
        "    b = mean_y - (w * mean_x)\n",
        "\n",
        "    \n",
        "    return w, b"
      ],
      "execution_count": null,
      "outputs": []
    },
    {
      "cell_type": "markdown",
      "metadata": {
        "id": "GzO9Ehhg0TXw"
      },
      "source": [
        "Using the function `fit_linear` above, print the values `w`, `b` for the linear model of price vs. number of rooms."
      ]
    },
    {
      "cell_type": "code",
      "metadata": {
        "collapsed": true,
        "id": "LxoaYYOz0TXw",
        "colab": {
          "base_uri": "https://localhost:8080/"
        },
        "outputId": "a8e9902a-e012-4692-c4a4-c480ed453f61"
      },
      "source": [
        "# TODO\n",
        "w, b = fit_linear(x,y)\n",
        "print('w = {0:5.1f}, b = {1:5.1f}'.format(w,b))"
      ],
      "execution_count": null,
      "outputs": [
        {
          "output_type": "stream",
          "name": "stdout",
          "text": [
            "w =   9.1, b = -34.7\n"
          ]
        }
      ]
    },
    {
      "cell_type": "markdown",
      "metadata": {
        "id": "bAj_BRcerz97"
      },
      "source": [
        "Does the price increase or decrease with the number of rooms? \n",
        "\n",
        "* The price increases with the number of rooms. Because y = wx + b, and in this situation w is equal to 9.1, there is a positive correlation between rooms and price. The 9.1 will continually make y increase for every increase in rooms x."
      ]
    },
    {
      "cell_type": "markdown",
      "metadata": {
        "id": "F71MzBOx0TXw"
      },
      "source": [
        "Replot the scatter plot above, but now with the regression line.  You can create the regression line by creating points `xp` from say min(x) to max(x), computing the linear predicted values `yp` on those points and plotting `yp` vs. `xp` on top of the above plot."
      ]
    },
    {
      "cell_type": "code",
      "metadata": {
        "collapsed": true,
        "id": "rf9qJ_qY0TXw",
        "colab": {
          "base_uri": "https://localhost:8080/",
          "height": 312
        },
        "outputId": "8b4abf2c-1707-4072-f3ea-fbdf920c8305"
      },
      "source": [
        "# TODO\n",
        "# Points on the regression line\n",
        "plt.title('The Effect of Room Numbers on Price')\n",
        "plt.xlabel('Average Number of Rooms')\n",
        "plt.ylabel('Price (in thousands of dollars)')\n",
        "plt.grid()\n",
        "plt.scatter(x,y)\n",
        "plt.plot(x, w*x+b)"
      ],
      "execution_count": null,
      "outputs": [
        {
          "output_type": "execute_result",
          "data": {
            "text/plain": [
              "[<matplotlib.lines.Line2D at 0x7fe1620aef90>]"
            ]
          },
          "metadata": {},
          "execution_count": 12
        },
        {
          "output_type": "display_data",
          "data": {
            "text/plain": [
              "<Figure size 432x288 with 1 Axes>"
            ],
            "image/png": "[encoded data removed]"
          },
          "metadata": {
            "needs_background": "light"
          }
        }
      ]
    },
    {
      "cell_type": "markdown",
      "metadata": {
        "id": "v_23tqcUdIfx"
      },
      "source": [
        "### Question 1c. Linear regression with multiple features/attributes [20 pts]\n",
        "One possible way to try to improve the fit is to use multiple variables at the same time."
      ]
    },
    {
      "cell_type": "markdown",
      "metadata": {
        "id": "bpsZK-mYWyFS"
      },
      "source": [
        "In this exercise, the target variable will be the `PRICE`.  We will use multiple attributes of the house to predict the price.  \n",
        "\n",
        "The names of all the data attributes are given in variable `names`. \n",
        "* We can get the list of names of the columns from `df.columns.tolist()`.  \n",
        "* Remove the last items from the list using indexing."
      ]
    },
    {
      "cell_type": "code",
      "metadata": {
        "id": "FYwmOGtxwuLA",
        "colab": {
          "base_uri": "https://localhost:8080/"
        },
        "outputId": "56d51724-57c5-40ea-dded-6dc56bc0b73f"
      },
      "source": [
        "xnames = names[:-1]\n",
        "print(names[:-1])"
      ],
      "execution_count": null,
      "outputs": [
        {
          "output_type": "stream",
          "name": "stdout",
          "text": [
            "['CRIM', 'ZN', 'INDUS', 'CHAS', 'NOX', 'RM', 'AGE', 'DIS', 'RAD', 'TAX', 'PTRATIO', 'B', 'LSTAT']\n"
          ]
        }
      ]
    },
    {
      "cell_type": "markdown",
      "metadata": {
        "id": "mLDuJkzNxUQu"
      },
      "source": [
        "Let us use `CRIM`, `RM`, and `LSTAT` to predict `PRICE`. \n",
        "\n",
        "Get the data matrix `X` with three features (`CRIM`, `RM`, `LSTAT`) and target vector `y` from the dataframe `df`.  \n",
        "\n",
        "Recall that to get the items from a dataframe, you can use syntax such as\n",
        "\n",
        "    s = np.array(df['RM'])  \n",
        "        \n",
        "which gets the data in the column `RM` and puts it into an array `s`.  You can also get multiple columns with syntax like\n",
        "\n",
        "    X12 = np.array(df['CRIM', 'ZN'])  \n"
      ]
    },
    {
      "cell_type": "code",
      "metadata": {
        "id": "Zp9Gk4O8FSty",
        "colab": {
          "base_uri": "https://localhost:8080/"
        },
        "outputId": "372d470c-0d23-4c8a-f035-9653bf5b33cd"
      },
      "source": [
        "# TODO\n",
        "X = df[['CRIM', 'RM', 'LSTAT']].values\n",
        "print(X)\n",
        "print (X.shape)\n",
        "\n",
        "y = df['PRICE'].values #the row number of X corresponds to the index of y\n",
        "#print(y)\n"
      ],
      "execution_count": null,
      "outputs": [
        {
          "output_type": "stream",
          "name": "stdout",
          "text": [
            "[[6.3200e-03 6.5750e+00 4.9800e+00]\n",
            " [2.7310e-02 6.4210e+00 9.1400e+00]\n",
            " [2.7290e-02 7.1850e+00 4.0300e+00]\n",
            " ...\n",
            " [6.0760e-02 6.9760e+00 5.6400e+00]\n",
            " [1.0959e-01 6.7940e+00 6.4800e+00]\n",
            " [4.7410e-02 6.0300e+00 7.8800e+00]]\n",
            "(506, 3)\n"
          ]
        }
      ]
    },
    {
      "cell_type": "markdown",
      "metadata": {
        "id": "jfHwrw4mzuS6"
      },
      "source": [
        "**Linear regression in scikit-learn**\n",
        "\n",
        "To fit the linear model, we could create a regression object and then fit the training data with regression object.\n",
        "\n",
        "```\n",
        "from sklearn import linear_model\n",
        "regr = linear_model.LinearRegression()\n",
        "regr.fit(X_train,y_train)\n",
        "```\n",
        "\n",
        "You can see the coefficients as\n",
        "```\n",
        "regr.intercept_\n",
        "regr.coef_\n",
        "```\n",
        "\n",
        "We can predict output for any data as \n",
        "\n",
        "    y_pred = regr.predict(X)\n",
        "\n",
        "**Instead of taking this approach, we will implement the regression function directly.**"
      ]
    },
    {
      "cell_type": "markdown",
      "metadata": {
        "id": "HC3dIR9Ns3Ny"
      },
      "source": [
        "**Linear regression by solving least-squares problem (direct solution)**\n",
        "\n",
        "Suppose we have $N$ pairs of training samples $(x_1,y_1),\\ldots, (x_N,y_N)$, where $\\mathbf{x}_i \\in \\mathbb{R}^d$ and $y_i \\in \\mathbb{R}$. \n",
        "\n",
        "We want to perform a linear fit over all the data features as \n",
        "$$y = \\mathbf{\\tilde w}^T\\mathbf{x}+b,$$\n",
        "where $\\mathbf{\\tilde w}\\in \\mathbb{R}^d$ and $b\\in \\mathbb{R}$. \n",
        "\n",
        "We saw in the class that we can write all the training data as a linear system \n",
        "$$ \\begin{bmatrix} y_1 \\\\ \\vdots \\\\ y_N \\end{bmatrix} = \\begin{bmatrix} - & \\mathbf{x}_1^T & - \\\\ \n",
        "& \\vdots & \\\\\n",
        "- & \\mathbf{x}_N^T& - \\end{bmatrix} \\mathbf{\\tilde w} + b, $$\n",
        "which can be written as \n",
        "$$ \\begin{bmatrix} y_1 \\\\ \\vdots \\\\ y_N \\end{bmatrix} = \\begin{bmatrix} 1 & \\mathbf{x}_1^T \\\\ \n",
        "\\vdots & \\vdots \\\\\n",
        "1 & \\mathbf{x}_N^T\\end{bmatrix} \\begin{bmatrix} b \\\\ \\mathbf{\\tilde w} \\end{bmatrix}.$$\n",
        "\n",
        "Let us write this system of linear equations in a compact form as \n",
        "\\begin{equation} \n",
        "\\mathbf{y} = \\mathbf{X}\\mathbf{w}, \n",
        "\\end{equation} \n",
        "where $\\mathbf{X}$ is an $N \\times d+1$ matrix whose first column is all ones and $\\mathbf{w}$ is a vector of length $d+1$ whose first term is the constant and rest of them are the coefficients of the linear model. \n",
        "\n",
        "The least-squares problem for the system above can be written as \n",
        "$$\\text{minimize}\\; \\frac{1}{2}\\|\\mathbf{y} - \\mathbf{X}\\mathbf{w}\\|_2^2$$\n",
        "for which the closed form solution can be written as \n",
        "$$\\mathbf{w} = (\\mathbf{X}^T\\mathbf{X})^{-1}\\mathbf{X}^T\\mathbf{y}.$$"
      ]
    },
    {
      "cell_type": "markdown",
      "metadata": {
        "id": "rid0H49X6fpi"
      },
      "source": [
        "**Append ones to the data matrix**\n",
        "\n",
        "To compute the coefficients $\\mathbf{\\tilde w}$, we first append a vector of ones to the data matrix.  This can be performed with the `ones` command and `hstack`.  Note that after we do this, `X` will have one more column than before. "
      ]
    },
    {
      "cell_type": "code",
      "metadata": {
        "id": "sod1xEK67AzN",
        "colab": {
          "base_uri": "https://localhost:8080/"
        },
        "outputId": "5e7603de-c7a9-42e9-ccc1-7f6b849e105d"
      },
      "source": [
        "# TODO  \n",
        "# your code here \n",
        "onesVector = np.ones((506, 1 ))\n",
        "print('Shape of Ones vector:',onesVector.shape)\n",
        "print('Shape of Data Vector:',X.shape)\n",
        "#print(onesVector)\n",
        "\n",
        "X = np.hstack((X, onesVector))\n",
        "#print(np.hstack((X, onesVector)))\n",
        "print(X)\n",
        "print('Shape of X with Ones Vector Appended:', X.shape)"
      ],
      "execution_count": null,
      "outputs": [
        {
          "output_type": "stream",
          "name": "stdout",
          "text": [
            "Shape of Ones vector: (506, 1)\n",
            "Shape of Data Vector: (506, 3)\n",
            "[[6.3200e-03 6.5750e+00 4.9800e+00 1.0000e+00]\n",
            " [2.7310e-02 6.4210e+00 9.1400e+00 1.0000e+00]\n",
            " [2.7290e-02 7.1850e+00 4.0300e+00 1.0000e+00]\n",
            " ...\n",
            " [6.0760e-02 6.9760e+00 5.6400e+00 1.0000e+00]\n",
            " [1.0959e-01 6.7940e+00 6.4800e+00 1.0000e+00]\n",
            " [4.7410e-02 6.0300e+00 7.8800e+00 1.0000e+00]]\n",
            "Shape of X with Ones Vector Appended: (506, 4)\n"
          ]
        }
      ]
    },
    {
      "cell_type": "markdown",
      "metadata": {
        "id": "0Pche190FSty"
      },
      "source": [
        "**Split the Data into Training and Test**\n",
        "\n",
        "Split the data into training and test.  Use 30% for test and 70% for training.  You can do the splitting manually or use the `sklearn` package `train_test_split`.   Store the training data in `Xtr,ytr` and test data in `Xts,yts`.\n"
      ]
    },
    {
      "cell_type": "code",
      "metadata": {
        "id": "8t88nZxdFSty"
      },
      "source": [
        "from sklearn.model_selection import train_test_split\n",
        "\n",
        "(Xtr, Xts, ytr, yts) = train_test_split(X,y, test_size = 0.3)\n"
      ],
      "execution_count": null,
      "outputs": []
    },
    {
      "cell_type": "markdown",
      "metadata": {
        "id": "V27_oEaX75i-"
      },
      "source": [
        "Now let us compute the coefficients $\\mathbf{w}$ using `Xtr,ytr` via the direct matrix inverse: $$\\mathbf{w} = (\\mathbf{X}^T\\mathbf{X})^{-1}\\mathbf{X}^T\\mathbf{y}.$$\n",
        "\n",
        "You may use `np.linalg.inv` to compute the inverse. For a small problem like this, it makes no difference.  But, in general, using a matrix inverse like this is *much* slower computationally than using functions such as `lstsq` method or the `LinearRegression` class.  In real world, you will never solve a least squares problem like this. "
      ]
    },
    {
      "cell_type": "code",
      "metadata": {
        "id": "uwBWVVY_8gUN",
        "colab": {
          "base_uri": "https://localhost:8080/"
        },
        "outputId": "f5641d55-2834-4996-ff25-da351b9f12ac"
      },
      "source": [
        "# TODO\n",
        "# compute w using the direct solution equation \n",
        "#Xtr = training data\n",
        "#ytr = training labels\n",
        "#Xts = test data\n",
        "#yts = test labels\n",
        "\n",
        "Xtr_transpose = Xtr.transpose()\n",
        "#print(np.dot(Xtr_transpose, Xtr))\n",
        "#print(np.shape(np.dot(Xtr_transpose, Xtr)))\n",
        "Xtr_transpose_Xtr = np.dot(Xtr_transpose, Xtr) #inner product of X'X\n",
        "Xtr_transpose_Xtr_in = np.linalg.inv(Xtr_transpose_Xtr) #inverse of X'X\n",
        "\n",
        "\n",
        "second_half = np.dot(Xtr_transpose, ytr)\n",
        "#print(np.shape(ytr))\n",
        "#print(np.shape)\n",
        "\n",
        "coeff_w = np.dot(Xtr_transpose_Xtr_in, second_half)\n",
        "\n",
        "print(coeff_w)\n",
        "\n"
      ],
      "execution_count": null,
      "outputs": [
        {
          "output_type": "stream",
          "name": "stdout",
          "text": [
            "[-0.10956883  5.1583298  -0.55634841 -2.36422091]\n"
          ]
        }
      ]
    },
    {
      "cell_type": "markdown",
      "metadata": {
        "id": "QCWqasJL9I6h"
      },
      "source": [
        "Compute the predicted values `yhat_tr` on the training data and print the average square loss value on the training data."
      ]
    },
    {
      "cell_type": "code",
      "metadata": {
        "id": "MXtUFymP9M0P",
        "colab": {
          "base_uri": "https://localhost:8080/"
        },
        "outputId": "6e65f86c-0e0e-4d4f-ffc9-b293843c617f"
      },
      "source": [
        "# TODO \n",
        "# your code here \n",
        "#y = Xw\n",
        "yhat_tr = np.dot(Xtr, coeff_w) # calculates predicted labels \n",
        "print(yhat_tr) \n",
        "\n",
        "#to find the average square loss we need to iterate through the real labels \n",
        "\n",
        "avg_sqr_loss = 0\n",
        "for i in range(len(yhat_tr)) :\n",
        "  avg_sqr_loss = avg_sqr_loss + (yhat_tr[i] - ytr[i])**2\n",
        "\n",
        "avg_sqr_loss = round(avg_sqr_loss / len(yhat_tr), 1)\n",
        "print('\\n')\n",
        "print('The average squared loss is:', avg_sqr_loss)\n",
        "\n"
      ],
      "execution_count": null,
      "outputs": [
        {
          "output_type": "stream",
          "name": "stdout",
          "text": [
            "[17.92988366 12.7593465  24.14815371 23.31583285 16.70823133 24.17893616\n",
            " 20.1560465  22.57212725 22.1643275  28.33469524 24.65563835 20.23802841\n",
            " 18.43127472 26.6832797   9.49082505 33.6234099  23.08820509 31.47031502\n",
            " 27.28423964 17.58811608 21.6476497  18.3878692  27.52706732 16.44289972\n",
            " 25.51747241 28.1785875  19.13476541 20.65944878 25.83996521 21.94745217\n",
            " 11.11128396 23.3543169  19.64922328 30.64401693 19.7805635  19.11258083\n",
            " 28.89453586 25.28758094 21.50280784 19.95192081 20.19431389 21.38754452\n",
            " 22.48597943 19.04304062 22.81874762 21.97013593 18.75217227 27.04780951\n",
            "  8.66467113  3.15390458 19.64667657 31.52945941 22.21113901 24.00947129\n",
            " 19.50938258 27.21723483  3.72592606 18.84893533 17.44781478  9.91571057\n",
            " 26.5561052  25.63327302 22.35081453  7.82480009 21.19930714 13.68966833\n",
            " 27.77957067 23.37910964 37.47331603 30.97460046 23.61511232 20.35788956\n",
            " 29.26300635 26.25789603 25.80716615 31.05515737 34.35121976 19.42753367\n",
            " 25.07686323 16.62294726 26.30543777 18.90333934 12.94613572 -4.17042751\n",
            " 21.18904981 16.4526427  16.41329679 30.52567792 20.39409564 19.50835815\n",
            "  4.54329166 20.68428057 19.9128892  10.06201841 10.6938541  29.16471295\n",
            " 26.33998712 23.65824313 19.18796156 18.18998918 29.01831917 20.88934589\n",
            " 26.64474431 22.780772   22.15532303 22.83717584 22.94715148 30.52541563\n",
            " 15.58295058 22.85624765 32.90316115 15.70512797 35.15803999 23.10496987\n",
            " 23.32859202 19.6944101  23.0683512  25.23473338 22.09475984  4.20251342\n",
            " 14.53607532 16.12580222 11.5111838  22.75538525 30.47582533 40.00857834\n",
            " 27.52292992 36.23184122 10.22108706 28.78048996 19.63639793 14.65521124\n",
            " 25.50182308 20.72797502 20.48676159 20.82239872 23.38638444 21.87179371\n",
            " 26.49870546 29.78091726 35.54877127 24.86933932 15.96714281 12.90352888\n",
            " 30.83059202 21.19568854 26.42539267 17.39113778 21.13464483 20.62614397\n",
            " 17.66128782 17.4101267  17.32888856 12.12898467 24.73583288 19.36010911\n",
            " 24.0635178  24.25341116 19.2225349  20.99995904 18.89059887 27.34901623\n",
            " 26.94895355 24.06654002  4.20303938 39.20356019 21.11105347 31.9314669\n",
            " 29.0643264  23.90102298  6.72367811 12.05585932 31.17060253 38.82327718\n",
            " 37.93670045 21.96104534 25.83021971  6.3270523  36.02060969 28.42956726\n",
            " 32.45330447 18.76835818 18.39906722 30.71407814 35.87812772 29.21670721\n",
            " 19.03481161 22.16576205 27.18164931 22.84766614 29.29288059 25.28618686\n",
            " 18.50571831 14.25524663 26.13965881 22.94009652 22.01057789 27.4795995\n",
            " 24.35128765 27.75703954 15.66116359 18.75465176 17.67393216  6.3572162\n",
            " 35.97878389 23.80374559 23.08352642 25.5002427  25.73277608 24.15195202\n",
            " 20.6175608  15.04262164 24.26637152  5.87314162 37.94262994 22.36408348\n",
            " 10.00768095 28.82435795 27.80302364 19.77257834 18.17020349 26.78909446\n",
            " 25.28396398 36.60375833 34.35404068 25.80150632 21.7852279  25.14508519\n",
            " 28.0966253  30.59580975 17.44275242 18.56617986 26.21328814 27.51950577\n",
            " 11.3809851  17.93255473 20.28661953 25.20175396 26.70525616 32.30279103\n",
            " 22.16545148 25.97735464 21.0586178  20.37363347 21.00392225 32.4386398\n",
            " 36.74552048 12.30806851 29.08151914 19.16907748 28.5271257  31.85205541\n",
            " 26.34253299 15.83160338 27.60128065 27.96172623 16.1047114  15.95939832\n",
            " 31.46338536 19.26952058 12.74215931 22.87046558 29.91159295 20.25550199\n",
            " 18.67449732 16.25534071 20.53556231  8.0575238  23.22076179 26.10851624\n",
            " 29.82969299 32.95023201 29.24851159 16.80149211  8.3756866  16.01005611\n",
            " 19.19402434 22.45404734 38.2285272  17.16753186 22.45976873 18.31889617\n",
            " 31.54936196 22.57643577 20.90276097 22.77191192 16.41083354 24.47489265\n",
            " 16.25706216 39.60215883 32.51827955 22.3472771  21.44997769 20.82563195\n",
            " 29.53078693 25.66939793 24.45834054  7.37200079 17.07216531 12.20721359\n",
            " 23.8799665  36.90287623 10.88098072 17.33957228 13.19437999 25.69217722\n",
            " 11.57011592 26.40090304 22.05237512 20.56900329 27.07877312 24.3856604\n",
            " 18.63957741 22.79621486 23.05654813 31.07472927 20.92229012 31.00133555\n",
            " 27.47800582  2.38120931 25.55430531 24.3159253  18.80308038 21.02035561\n",
            " 22.94846171 18.75620553 22.53924671 23.44367658 26.7403632  23.58468572\n",
            " 27.30038015 13.52915345 26.86912175 28.58063151 17.90940269 27.80003637\n",
            " 31.74398309 12.92996523 31.09991631 23.90647087 -4.63983953 26.21609174\n",
            " 14.27371968 29.8355816  33.4769976  31.32253028 17.49581844 20.90229152\n",
            " 20.61263442 29.39666815 26.67589255 26.20463266 36.61195519  3.22599609]\n",
            "\n",
            "\n",
            "The average squared loss is: 31.0\n"
          ]
        }
      ]
    },
    {
      "cell_type": "markdown",
      "metadata": {
        "id": "IGcEO0ggFStz"
      },
      "source": [
        "Create a scatter plot of the actual vs. predicted values of `y` on the training data."
      ]
    },
    {
      "cell_type": "code",
      "metadata": {
        "id": "-r__jPyk-Em-",
        "colab": {
          "base_uri": "https://localhost:8080/",
          "height": 312
        },
        "outputId": "ff11bfdf-daff-4b30-f01b-c6e11087b8e5"
      },
      "source": [
        "# TODO \n",
        "# your code here \n",
        "plt.title('Actual Vs Predicted Values')\n",
        "plt.xlabel('Actual Values')\n",
        "plt.ylabel('Predicted Values')\n",
        "plt.grid()\n",
        "plt.scatter(ytr, yhat_tr)\n",
        "\n"
      ],
      "execution_count": null,
      "outputs": [
        {
          "output_type": "execute_result",
          "data": {
            "text/plain": [
              "<matplotlib.collections.PathCollection at 0x7fe160309b50>"
            ]
          },
          "metadata": {},
          "execution_count": 19
        },
        {
          "output_type": "display_data",
          "data": {
            "text/plain": [
              "<Figure size 432x288 with 1 Axes>"
            ],
            "image/png": "[encoded data removed]"
          },
          "metadata": {
            "needs_background": "light"
          }
        }
      ]
    },
    {
      "cell_type": "markdown",
      "metadata": {
        "id": "1HCzNYlm-UxT"
      },
      "source": [
        "Compute the predicted values `yhat_ts` on the test data and print the average square loss value on the test data."
      ]
    },
    {
      "cell_type": "code",
      "metadata": {
        "id": "mUKr8Dx2-UxU",
        "colab": {
          "base_uri": "https://localhost:8080/"
        },
        "outputId": "6e90c231-6b87-4d44-8852-ca9376f83421"
      },
      "source": [
        "# TODO \n",
        "# your code here \n",
        "#yhat_tr = np.dot(Xtr, coeff_w) # calculates predicted labels \n",
        "#print(yhat_tr) \n",
        "\n",
        "# avg_sqr_loss = 0\n",
        "# for i in range(len(yhat_tr)) :\n",
        "#   avg_sqr_loss = avg_sqr_loss + (yhat_tr[i] - ytr[i])**2\n",
        "\n",
        "# avg_sqr_loss = round(avg_sqr_loss / len(yhat_tr), 1)\n",
        "# print('\\n')\n",
        "# print('The average squared loss is:', avg_sqr_loss)\n",
        "\n",
        "yhat_ts = np.dot(Xts, coeff_w) #calculates predicted labels for test data \n",
        "print(yhat_ts)\n",
        "\n",
        "avg_sqr_loss = 0\n",
        "for i in range(len(yhat_ts)):\n",
        "  avg_sqr_loss = avg_sqr_loss + (yhat_ts[i] - yts[i])**2\n",
        "\n",
        "avg_sqr_loss = round(avg_sqr_loss / len(yhat_ts),1)\n",
        "print('\\n')\n",
        "print('The average squared loss is:', avg_sqr_loss)\n",
        "print('size of test labels:', len(yts))\n",
        "print('number of predicted labels:', len(yhat_ts))\n",
        "\n",
        "\n"
      ],
      "execution_count": null,
      "outputs": [
        {
          "output_type": "stream",
          "name": "stdout",
          "text": [
            "[17.605406    0.32573523 36.25743277 33.0560574  24.08306611 21.55393927\n",
            " 32.76263733 19.12848229 28.90305784 21.25211835 19.90779151 18.38316267\n",
            " 23.9278483  19.3415889  18.64813796 39.61837207 24.50649994 26.98844955\n",
            " 20.57765045 37.6104225  17.42299117 21.72257327 29.38827399 22.86384826\n",
            " 15.35762584 15.38720509 19.58890692 27.71155555 24.23425764 31.96276364\n",
            " 27.05016174 14.40794163 19.91740805 20.6382616   8.31669092 26.75913409\n",
            " 12.68104319 25.68727975 19.86475444 17.37421644 20.41880207 28.77047242\n",
            " 37.32550951 19.10506672 28.31887294 20.25947766 21.50422723 26.30716482\n",
            " 23.30292232 30.5260312  28.61889504 30.14936103 25.5048658  12.99146048\n",
            " 21.79194057 26.21251697 19.10977625 27.59324534 18.96198384 23.93317587\n",
            " 17.4902215  17.59493495 16.82336129 24.47421603 27.90199385 23.97374745\n",
            " 17.9591364  20.68657272 18.4332647  30.24001097 30.0529808  23.64550034\n",
            " 29.85098207 17.46099125 28.19626676  8.83499999 19.0742023  21.4069717\n",
            " 19.25501908 26.32133145 29.41246447 18.6295485  29.50075668 25.26513161\n",
            " 22.92405201 15.31292393 26.61041492 20.81701403 18.35110804 21.56551664\n",
            " 17.94217212 18.06445937 22.79601469 22.0342372   6.38337578 22.91096476\n",
            " 29.69678863 11.54420947 35.14368955 26.47606081 29.79981159 24.74842147\n",
            " 20.21606989 32.3510395  20.14829454 24.09315032 21.70846236 35.38988621\n",
            " 13.64624018 24.13906447 19.30800986 21.46954459 20.74493618 31.31239461\n",
            " 29.28146028 28.27827191  0.9257328  21.086912   28.04995095 31.69048985\n",
            " 19.78828318  9.08083879 19.52799247 17.2398584  27.70703123 21.2365684\n",
            " 20.08006471 26.20962736 25.53320552 30.76235745 18.25603682 23.24547502\n",
            " 19.26267439 28.50936734 32.32880681 19.75833364 21.24630945 27.06318637\n",
            " 31.0213224  17.08425564 22.28403415  7.33215744 25.48236832 32.09455995\n",
            " 17.83178322 30.93642759 20.51688646 35.06914382 32.89776442 19.61040412\n",
            " 14.7749237  24.19038421]\n",
            "\n",
            "\n",
            "The average squared loss is: 27.4\n",
            "size of test labels: 152\n",
            "number of predicted labels: 152\n"
          ]
        }
      ]
    },
    {
      "cell_type": "markdown",
      "metadata": {
        "id": "W7i50wvq-CWO"
      },
      "source": [
        "Create a scatter plot of the actual vs. predicted values of `y` on the test data."
      ]
    },
    {
      "cell_type": "code",
      "metadata": {
        "id": "q8dnwG94FStz",
        "colab": {
          "base_uri": "https://localhost:8080/",
          "height": 312
        },
        "outputId": "c89c516f-d306-4ebe-a4ee-eaa5ca284ed7"
      },
      "source": [
        "# TODO \n",
        "# your code here \n",
        "plt.title('Actual Vs Predicted Values')\n",
        "plt.xlabel('Actual Values')\n",
        "plt.ylabel('Predicted Values')\n",
        "plt.grid()\n",
        "plt.scatter(yts, yhat_ts)\n"
      ],
      "execution_count": null,
      "outputs": [
        {
          "output_type": "execute_result",
          "data": {
            "text/plain": [
              "<matplotlib.collections.PathCollection at 0x7fe1602fc290>"
            ]
          },
          "metadata": {},
          "execution_count": 21
        },
        {
          "output_type": "display_data",
          "data": {
            "text/plain": [
              "<Figure size 432x288 with 1 Axes>"
            ],
            "image/png": "[encoded data removed]"
          },
          "metadata": {
            "needs_background": "light"
          }
        }
      ]
    },
    {
      "cell_type": "markdown",
      "metadata": {
        "id": "_N6Djzqo3BLL"
      },
      "source": [
        "### Question 1d: Gradient descent for linear regression [20 pts]\n",
        "Finally, we will implement the gradient descent version of linear regression.\n",
        "\n",
        "In particular, the function implemented should follow the following format:\n",
        "```python\n",
        "def linear_regression_gd(X,y,learning_rate = 0.00001,max_iter=10000,tol=pow(10,-5)):\n",
        "```\n",
        "Where `X` is the same data matrix used above (with ones column appended), `y` is the variable to be predicted, `learning_rate` is the learning rate used ($\\alpha$ in the slides), `max_iter` defines the maximum number of iterations that gradient descent is allowed to run, and `tol` is defining the tolerance for convergence (which we'll discuss next).\n",
        "\n",
        "The return values for the above function should be (at the least) 1) `w` which are the regression parameters, 2) `all_cost` which is an array where each position contains the value of the objective function $L(\\mathbf{w})$ for a given iteration, 3) `iters` which counts how many iterations did the algorithm need in order to converge to a solution.\n",
        "\n",
        "Gradient descent is an iterative algorithm; it keeps updating the variables until a convergence criterion is met. In our case, our convergence criterion is whichever of the following two criteria happens first:\n",
        "\n",
        "- The maximum number of iterations is met\n",
        "- The relative improvement in the cost is not greater than the tolerance we have specified. For this criterion, you may use the following snippet into your code:\n",
        "```python\n",
        "np.absolute(all_cost[it] - all_cost[it-1])/all_cost[it-1] <= tol\n",
        "```\n",
        "\n",
        "Gradient can be computed as $$\\nabla_\\mathbf{w}L = \\mathbf{X}^T(\\mathbf{X}\\mathbf{w} - \\mathbf{y}).$$\n",
        "\n",
        "Estimate will be updated as $\\mathbf{w} \\gets \\mathbf{w} - \\alpha \\nabla_\\mathbf{w}L$ at every iteration. \n",
        "\n",
        "**Note that the $\\mathbf{w}$ in this derivation includes the constant term and $\\mathbf{X}$ is a matrix that has ones column appended to it.**"
      ]
    },
    {
      "cell_type": "code",
      "metadata": {
        "id": "rI3bPa4CY7XW"
      },
      "source": [
        "# TODO \n",
        "# Implement gradient descent for linear regression \n",
        "\n",
        "def compute_cost(X,w,y):\n",
        "    # your code for the loss function goes here \n",
        "    #L = 0.5*(y - np.dot(X,w))**2\n",
        "    L = np.sum((y - np.dot(X,w))**2)\n",
        "#    L = np.sum(np.dot(X,w) - y)**2\n",
        "    L = L / len(X) \n",
        "\n",
        "    return L\n",
        "\n",
        "def linear_regression_gd(X,y,learning_rate = 0.00001,max_iter=10000,tol=pow(10,-5)):\n",
        "    # your code goes here \n",
        "    iters = 0\n",
        "    gradient = 0\n",
        "    all_cost = []\n",
        "    w = np.zeros(4) #not zero so we dont zero out\n",
        "    X_transpose = X.transpose()\n",
        "    for i in range(max_iter) :\n",
        "      iters += 1\n",
        "      inside_parenthesis = np.dot(X,w) - y\n",
        "      gradient = np.dot(X_transpose, inside_parenthesis)\n",
        "     # gradient = np.dot(X.transpose(), ((np.dot(X, w) - y)))\n",
        "      w = w - learning_rate * gradient\n",
        "      all_cost.append(compute_cost(X,w,y))\n",
        "      #print(w)\n",
        "\n",
        "\n",
        "      #np.append(all_cost, compute_cost(X,w,y)) \n",
        "    #   print('iteration',i,'costsize', len(all_cost))\n",
        "      # if len(all_cost) >= 2 :\n",
        "      #   if abs(all_cost[i] - all_cost[iters-1])/all_cost[i-1] <= tol :\n",
        "      #     break\n",
        "   # print(w)\n",
        "    #print(w, all_cost, iters+1)\n",
        "    return w, all_cost, iters"
      ],
      "execution_count": null,
      "outputs": []
    },
    {
      "cell_type": "markdown",
      "metadata": {
        "id": "dN2e6tsuY8Nq"
      },
      "source": [
        "### Question 1e: Convergence plots [10 pts]\n",
        "After implementing gradient descent for linear regression, we would like to test that indeed our algorithm converges to a solution. In order see this, we are going to look at the value of the objective/loss function $L(\\mathbf{w})$ as a function of the number of iterations, and ideally, what we would like to see is $L(\\mathbf{w})$ drops as we run more iterations, and eventually it stabilizes. \n",
        "\n",
        "The learning rate plays a big role in how fast our algorithm converges: a larger learning rate means that the algorithm is making faster strides to the solution, whereas a smaller learning rate implies slower steps. In this question we are going to test two different values for the learning rate:\n",
        "- 0.00001\n",
        "- 0.000001\n",
        "\n",
        "while keeping the default values for the max number of iterations and the tolerance.\n",
        "\n",
        "\n",
        "- Plot the two convergence plots (cost vs. iterations) [5]\n",
        "\n",
        "- What do you observe? [5]\n",
        "\n",
        "<b>Important</b>: In reality, when we are running gradient descent, we should be checking convergence based on the <i>validation</i> error (i.e., we would have to split our training set into e.g., 70/30 training'/validation subsets, use the new training set to calculate the gradient descent updates and evaluate the error both on the training set and the validation set, and as soon as the validation loss stops improving, we stop training. <b>In order to keep things simple, in this assignment we are only looking at the training loss</b>, but as long as you have a function \n",
        "```python\n",
        "def compute_cost(X,w,y):\n",
        "```\n",
        "that calculates the loss for a given X, y, and set of parameters you have, you can always compute it on the validation portion of X and y (that are <b>not</b> used for the updates).  "
      ]
    },
    {
      "cell_type": "code",
      "metadata": {
        "id": "1vbaLoa7ZB_8",
        "colab": {
          "base_uri": "https://localhost:8080/",
          "height": 590
        },
        "outputId": "13d420eb-f2b0-4141-bf4e-6549d561e0b1"
      },
      "source": [
        "# TODO \n",
        "# test gradient descent with step size 0.00001\n",
        "# test gradient descent with step size 0.000001\n",
        "\n",
        "(w, all_cost,iters) = linear_regression_gd(Xtr,ytr,learning_rate = 0.00001,max_iter = 1000, tol=pow(10,-6))  \n",
        "plt.figure(0)\n",
        "plt.semilogy(all_cost[0:iters])    \n",
        "plt.grid()\n",
        "plt.title('Training loss vs iteration with Rate = 0.00001')\n",
        "plt.xlabel('Iteration')\n",
        "plt.ylabel('Training loss')  \n",
        "\n",
        "(w, all_cost,iters) = linear_regression_gd(Xtr,ytr,learning_rate = 0.000001,max_iter = 1000, tol=pow(10,-6))  \n",
        "plt.figure(1)\n",
        "plt.semilogy(all_cost[0:iters])    \n",
        "plt.grid()\n",
        "plt.title('Training loss vs iteration with Rate = 0.000001')\n",
        "plt.xlabel('Iteration')\n",
        "plt.ylabel('Training loss') \n",
        "\n",
        "\n",
        "# complete the rest"
      ],
      "execution_count": null,
      "outputs": [
        {
          "output_type": "execute_result",
          "data": {
            "text/plain": [
              "Text(0, 0.5, 'Training loss')"
            ]
          },
          "metadata": {},
          "execution_count": 134
        },
        {
          "output_type": "display_data",
          "data": {
            "text/plain": [
              "<Figure size 432x288 with 1 Axes>"
            ],
            "image/png": "[encoded data removed]"
          },
          "metadata": {
            "needs_background": "light"
          }
        },
        {
          "output_type": "display_data",
          "data": {
            "text/plain": [
              "<Figure size 432x288 with 1 Axes>"
            ],
            "image/png": "[encoded data removed]"
          },
          "metadata": {
            "needs_background": "light"
          }
        }
      ]
    },
    {
      "cell_type": "markdown",
      "metadata": {
        "id": "KRU51zCtZAtP"
      },
      "source": [
        "Observations: \n",
        "\n",
        "1. With a higher training rate, gradient descent converged faster\n",
        "1.  With a lower training rate, gradient descent took many many more iterations to converge but yielded a much more charcteristic half parabolic shape."
      ]
    },
    {
      "cell_type": "markdown",
      "metadata": {
        "id": "_7FVGGI_aqre"
      },
      "source": [
        "### Question 2. Logistic regression [30 pts]\n",
        "\n",
        "In this question, we will plot the logistic function and perform logistic regression. We will use the breast cancer data set.  This data set is described here:\n",
        "\n",
        "https://archive.ics.uci.edu/ml/machine-learning-databases/breast-cancer-wisconsin\n",
        "\n",
        "Each sample is a collection of features that were manually recorded by a physician upon inspecting a sample of cells from fine needle aspiration.  The goal is to detect if the cells are benign or malignant.  \n",
        "\n",
        "We could use the `sklearn` built-in `LogisticRegression` class to find the weights for the logistic regression problem.  The `fit` routine in that class has an *optimizer* to select the weights to best match the data.  To understand how that optimizer works, in this problem, we will build a very simple gradient descent optimizer from scratch.  "
      ]
    },
    {
      "cell_type": "markdown",
      "metadata": {
        "id": "EHaz8CZBfUVr"
      },
      "source": [
        "### Loading and visualizing the Breast Cancer Data\n",
        "\n",
        "We load the data from the UCI site and remove the missing values."
      ]
    },
    {
      "cell_type": "code",
      "metadata": {
        "id": "4RdmLqolffmw",
        "colab": {
          "base_uri": "https://localhost:8080/",
          "height": 238
        },
        "outputId": "4643a79a-8ac7-443f-e8b9-cf04afca3550"
      },
      "source": [
        "names = ['id','thick','size_unif','shape_unif','marg','cell_size','bare',\n",
        "         'chrom','normal','mit','class']\n",
        "df = pd.read_csv('https://archive.ics.uci.edu/ml/machine-learning-databases/' +\n",
        "                 'breast-cancer-wisconsin/breast-cancer-wisconsin.data',\n",
        "                names=names,na_values='?',header=None)\n",
        "df = df.dropna()\n",
        "df.head(6)"
      ],
      "execution_count": null,
      "outputs": [
        {
          "output_type": "execute_result",
          "data": {
            "text/plain": [
              "        id  thick  size_unif  shape_unif  marg  cell_size  bare  chrom  \\\n",
              "0  1000025      5          1           1     1          2   1.0      3   \n",
              "1  1002945      5          4           4     5          7  10.0      3   \n",
              "2  1015425      3          1           1     1          2   2.0      3   \n",
              "3  1016277      6          8           8     1          3   4.0      3   \n",
              "4  1017023      4          1           1     3          2   1.0      3   \n",
              "5  1017122      8         10          10     8          7  10.0      9   \n",
              "\n",
              "   normal  mit  class  \n",
              "0       1    1      2  \n",
              "1       2    1      2  \n",
              "2       1    1      2  \n",
              "3       7    1      2  \n",
              "4       1    1      2  \n",
              "5       7    1      4  "
            ],
            "text/html": [
              "\n",
              "  <div id=\"df-d0068877-a948-43bb-a84c-e7d55c9b3743\">\n",
              "    <div class=\"colab-df-container\">\n",
              "      <div>\n",
              "<style scoped>\n",
              "    .dataframe tbody tr th:only-of-type {\n",
              "        vertical-align: middle;\n",
              "    }\n",
              "\n",
              "    .dataframe tbody tr th {\n",
              "        vertical-align: top;\n",
              "    }\n",
              "\n",
              "    .dataframe thead th {\n",
              "        text-align: right;\n",
              "    }\n",
              "</style>\n",
              "<table border=\"1\" class=\"dataframe\">\n",
              "  <thead>\n",
              "    <tr style=\"text-align: right;\">\n",
              "      <th></th>\n",
              "      <th>id</th>\n",
              "      <th>thick</th>\n",
              "      <th>size_unif</th>\n",
              "      <th>shape_unif</th>\n",
              "      <th>marg</th>\n",
              "      <th>cell_size</th>\n",
              "      <th>bare</th>\n",
              "      <th>chrom</th>\n",
              "      <th>normal</th>\n",
              "      <th>mit</th>\n",
              "      <th>class</th>\n",
              "    </tr>\n",
              "  </thead>\n",
              "  <tbody>\n",
              "    <tr>\n",
              "      <th>0</th>\n",
              "      <td>1000025</td>\n",
              "      <td>5</td>\n",
              "      <td>1</td>\n",
              "      <td>1</td>\n",
              "      <td>1</td>\n",
              "      <td>2</td>\n",
              "      <td>1.0</td>\n",
              "      <td>3</td>\n",
              "      <td>1</td>\n",
              "      <td>1</td>\n",
              "      <td>2</td>\n",
              "    </tr>\n",
              "    <tr>\n",
              "      <th>1</th>\n",
              "      <td>1002945</td>\n",
              "      <td>5</td>\n",
              "      <td>4</td>\n",
              "      <td>4</td>\n",
              "      <td>5</td>\n",
              "      <td>7</td>\n",
              "      <td>10.0</td>\n",
              "      <td>3</td>\n",
              "      <td>2</td>\n",
              "      <td>1</td>\n",
              "      <td>2</td>\n",
              "    </tr>\n",
              "    <tr>\n",
              "      <th>2</th>\n",
              "      <td>1015425</td>\n",
              "      <td>3</td>\n",
              "      <td>1</td>\n",
              "      <td>1</td>\n",
              "      <td>1</td>\n",
              "      <td>2</td>\n",
              "      <td>2.0</td>\n",
              "      <td>3</td>\n",
              "      <td>1</td>\n",
              "      <td>1</td>\n",
              "      <td>2</td>\n",
              "    </tr>\n",
              "    <tr>\n",
              "      <th>3</th>\n",
              "      <td>1016277</td>\n",
              "      <td>6</td>\n",
              "      <td>8</td>\n",
              "      <td>8</td>\n",
              "      <td>1</td>\n",
              "      <td>3</td>\n",
              "      <td>4.0</td>\n",
              "      <td>3</td>\n",
              "      <td>7</td>\n",
              "      <td>1</td>\n",
              "      <td>2</td>\n",
              "    </tr>\n",
              "    <tr>\n",
              "      <th>4</th>\n",
              "      <td>1017023</td>\n",
              "      <td>4</td>\n",
              "      <td>1</td>\n",
              "      <td>1</td>\n",
              "      <td>3</td>\n",
              "      <td>2</td>\n",
              "      <td>1.0</td>\n",
              "      <td>3</td>\n",
              "      <td>1</td>\n",
              "      <td>1</td>\n",
              "      <td>2</td>\n",
              "    </tr>\n",
              "    <tr>\n",
              "      <th>5</th>\n",
              "      <td>1017122</td>\n",
              "      <td>8</td>\n",
              "      <td>10</td>\n",
              "      <td>10</td>\n",
              "      <td>8</td>\n",
              "      <td>7</td>\n",
              "      <td>10.0</td>\n",
              "      <td>9</td>\n",
              "      <td>7</td>\n",
              "      <td>1</td>\n",
              "      <td>4</td>\n",
              "    </tr>\n",
              "  </tbody>\n",
              "</table>\n",
              "</div>\n",
              "      <button class=\"colab-df-convert\" onclick=\"convertToInteractive('df-d0068877-a948-43bb-a84c-e7d55c9b3743')\"\n",
              "              title=\"Convert this dataframe to an interactive table.\"\n",
              "              style=\"display:none;\">\n",
              "        \n",
              "  <svg xmlns=\"http://www.w3.org/2000/svg\" height=\"24px\"viewBox=\"0 0 24 24\"\n",
              "       width=\"24px\">\n",
              "    <path d=\"M0 0h24v24H0V0z\" fill=\"none\"/>\n",
              "    <path d=\"M18.56 5.44l.94 2.06.94-2.06 2.06-.94-2.06-.94-.94-2.06-.94 2.06-2.06.94zm-11 1L8.5 8.5l.94-2.06 2.06-.94-2.06-.94L8.5 2.5l-.94 2.06-2.06.94zm10 10l.94 2.06.94-2.06 2.06-.94-2.06-.94-.94-2.06-.94 2.06-2.06.94z\"/><path d=\"M17.41 7.96l-1.37-1.37c-.4-.4-.92-.59-1.43-.59-.52 0-1.04.2-1.43.59L10.3 9.45l-7.72 7.72c-.78.78-.78 2.05 0 2.83L4 21.41c.39.39.9.59 1.41.59.51 0 1.02-.2 1.41-.59l7.78-7.78 2.81-2.81c.8-.78.8-2.07 0-2.86zM5.41 20L4 18.59l7.72-7.72 1.47 1.35L5.41 20z\"/>\n",
              "  </svg>\n",
              "      </button>\n",
              "      \n",
              "  <style>\n",
              "    .colab-df-container {\n",
              "      display:flex;\n",
              "      flex-wrap:wrap;\n",
              "      gap: 12px;\n",
              "    }\n",
              "\n",
              "    .colab-df-convert {\n",
              "      background-color: #E8F0FE;\n",
              "      border: none;\n",
              "      border-radius: 50%;\n",
              "      cursor: pointer;\n",
              "      display: none;\n",
              "      fill: #1967D2;\n",
              "      height: 32px;\n",
              "      padding: 0 0 0 0;\n",
              "      width: 32px;\n",
              "    }\n",
              "\n",
              "    .colab-df-convert:hover {\n",
              "      background-color: #E2EBFA;\n",
              "      box-shadow: 0px 1px 2px rgba(60, 64, 67, 0.3), 0px 1px 3px 1px rgba(60, 64, 67, 0.15);\n",
              "      fill: #174EA6;\n",
              "    }\n",
              "\n",
              "    [theme=dark] .colab-df-convert {\n",
              "      background-color: #3B4455;\n",
              "      fill: #D2E3FC;\n",
              "    }\n",
              "\n",
              "    [theme=dark] .colab-df-convert:hover {\n",
              "      background-color: #434B5C;\n",
              "      box-shadow: 0px 1px 3px 1px rgba(0, 0, 0, 0.15);\n",
              "      filter: drop-shadow(0px 1px 2px rgba(0, 0, 0, 0.3));\n",
              "      fill: #FFFFFF;\n",
              "    }\n",
              "  </style>\n",
              "\n",
              "      <script>\n",
              "        const buttonEl =\n",
              "          document.querySelector('#df-d0068877-a948-43bb-a84c-e7d55c9b3743 button.colab-df-convert');\n",
              "        buttonEl.style.display =\n",
              "          google.colab.kernel.accessAllowed ? 'block' : 'none';\n",
              "\n",
              "        async function convertToInteractive(key) {\n",
              "          const element = document.querySelector('#df-d0068877-a948-43bb-a84c-e7d55c9b3743');\n",
              "          const dataTable =\n",
              "            await google.colab.kernel.invokeFunction('convertToInteractive',\n",
              "                                                     [key], {});\n",
              "          if (!dataTable) return;\n",
              "\n",
              "          const docLinkHtml = 'Like what you see? Visit the ' +\n",
              "            '<a target=\"_blank\" href=https://colab.research.google.com/notebooks/data_table.ipynb>data table notebook</a>'\n",
              "            + ' to learn more about interactive tables.';\n",
              "          element.innerHTML = '';\n",
              "          dataTable['output_type'] = 'display_data';\n",
              "          await google.colab.output.renderOutput(dataTable, element);\n",
              "          const docLink = document.createElement('div');\n",
              "          docLink.innerHTML = docLinkHtml;\n",
              "          element.appendChild(docLink);\n",
              "        }\n",
              "      </script>\n",
              "    </div>\n",
              "  </div>\n",
              "  "
            ]
          },
          "metadata": {},
          "execution_count": 135
        }
      ]
    },
    {
      "cell_type": "markdown",
      "metadata": {
        "id": "3EEPMsFmfpqS"
      },
      "source": [
        "After loading the data, we can create a scatter plot of the data labeling the class values with different colors.  We will pick two of the features.  "
      ]
    },
    {
      "cell_type": "code",
      "metadata": {
        "id": "rXSf9mKtfwbF",
        "colab": {
          "base_uri": "https://localhost:8080/",
          "height": 307
        },
        "outputId": "480efce0-a230-41c2-8fb1-fd09934a7131"
      },
      "source": [
        "# Get the response.  Convert to a zero-one indicator \n",
        "yraw = np.array(df['class'])\n",
        "BEN_VAL = 2   # value in the 'class' label for benign samples\n",
        "MAL_VAL = 4   # value in the 'class' label for malignant samples\n",
        "y = (yraw == MAL_VAL).astype(int)\n",
        "Iben = (y==0)\n",
        "Imal = (y==1)\n",
        "\n",
        "# Get two predictors\n",
        "xnames =['size_unif','marg'] \n",
        "X = np.array(df[xnames])\n",
        "\n",
        "# Create the scatter plot\n",
        "plt.plot(X[Imal,0],X[Imal,1],'r.')\n",
        "plt.plot(X[Iben,0],X[Iben,1],'g.')\n",
        "plt.xlabel(xnames[0], fontsize=16)\n",
        "plt.ylabel(xnames[1], fontsize=16)\n",
        "plt.ylim(0,14)\n",
        "plt.legend(['malign','benign'],loc='upper right')"
      ],
      "execution_count": null,
      "outputs": [
        {
          "output_type": "execute_result",
          "data": {
            "text/plain": [
              "<matplotlib.legend.Legend at 0x7fe157c2e590>"
            ]
          },
          "metadata": {},
          "execution_count": 136
        },
        {
          "output_type": "display_data",
          "data": {
            "text/plain": [
              "<Figure size 432x288 with 1 Axes>"
            ],
            "image/png": "[encoded data removed]"
          },
          "metadata": {
            "needs_background": "light"
          }
        }
      ]
    },
    {
      "cell_type": "markdown",
      "metadata": {
        "id": "UY5fLe90gCnU"
      },
      "source": [
        "The above plot is not informative, since many of the points are on top of one another.  Thus, we cannot see the relative frequency of points.  "
      ]
    },
    {
      "cell_type": "markdown",
      "metadata": {
        "id": "1RaZ9ToBgD6-"
      },
      "source": [
        "### Logistic function\n",
        "\n",
        "We will build a binary classifier using *logistic regression*.  In logistic regression, we do not just output an estimate of the class label.  Instead, we ouput a *probability*, an estimate of how likely the sample is one class or the other.  That is our output is a number from 0 to 1 representing the likelihood:\n",
        "$$\n",
        "    P(y = 1|x)\n",
        "$$\n",
        "which is our estimate of the probability that the sample is one class (in this case, a malignant sample) based on the features in `x`.  This is sometimes called a *soft classifier*.  \n",
        "\n",
        "In logistic regression, we assume that likelihood is of the form\n",
        "$$\n",
        "    P(y=1|x) = \\sigma(z),  \\quad z = w(1)x(1) + \\cdots + w(d)x(d) + b = \\mathbf{w}^T\\mathbf{x}+b,  \n",
        "$$\n",
        "where $w(1),\\ldots,w(d),b$ are the classifier weights and $\\sigma(z)$ is the so-called *logistic* function:\n",
        "$$\n",
        "    \\sigma(z) = \\frac{1}{1+e^{-z}}.\n",
        "$$\n",
        "\n",
        "To understand the logistic function, suppose $x$ is a scalar and samples $y$ are drawn with $P(y=1|x) = f(w x+b)$ for some $w$ and $b$.  We plot these samples for different $w,b$."
      ]
    },
    {
      "cell_type": "code",
      "metadata": {
        "id": "shwwuK9Ogv7D",
        "colab": {
          "base_uri": "https://localhost:8080/",
          "height": 438
        },
        "outputId": "dfae4434-5a05-4db7-cca4-37fb331d21c7"
      },
      "source": [
        "N = 100\n",
        "xm = 20\n",
        "ws = np.array([0.5,1,2,10])\n",
        "bs = np.array([0, 5, -5])\n",
        "wplot = ws.size\n",
        "bplot = bs.size\n",
        "iplot = 0\n",
        "for b in bs: \n",
        "  for w in ws:\n",
        "    iplot += 1\n",
        "    x  = np.random.uniform(-xm,xm,N)\n",
        "  \n",
        "    py = 1/(1+np.exp(-w*x-b))\n",
        " \n",
        "    yp = np.array(np.random.rand(N) < py) # hard label for random points\n",
        "    xp = np.linspace(-xm,xm,100) \n",
        "    pyp = 1/(1+np.exp(-w*xp-b)) # soft label (probability) for the points\n",
        "\n",
        "    plt.subplot(bplot,wplot,iplot)\n",
        "\n",
        "    plt.scatter(x,yp,c=yp,edgecolors='none',marker='+')\n",
        "    plt.plot(xp,pyp,'b-')\n",
        "    plt.axis([-xm,xm,-0.1,1.1])\n",
        "    plt.grid() \n",
        "    if ((iplot%4)!=1):\n",
        "        plt.yticks([])\n",
        "    plt.xticks([-20,-10,0,10,20])\n",
        "    plt.title('w={0:.1f}, b={1:.1f}'.format(w,b))\n",
        "\n",
        "    plt.subplots_adjust(top=1.5, bottom=0.2, hspace=0.5, wspace=0.2)"
      ],
      "execution_count": null,
      "outputs": [
        {
          "output_type": "display_data",
          "data": {
            "text/plain": [
              "<Figure size 432x288 with 12 Axes>"
            ],
            "image/png": "[encoded data removed]"
          },
          "metadata": {
            "needs_background": "light"
          }
        }
      ]
    },
    {
      "cell_type": "markdown",
      "metadata": {
        "id": "kyhRv_1hhOj3"
      },
      "source": [
        "We see that $\\sigma(wx+b)$ represents the probability that $y=1$.  The function $\\sigma(wx) > 0.5$ for $x>0$ meaning the samples are more likely to be $y=1$.  Similarly, for $x<0$, the samples are more likely to be $y=0$.  The scaling $w$ determines how fast that transition is and $b$ influences the transition point.  "
      ]
    },
    {
      "cell_type": "markdown",
      "metadata": {
        "id": "Dr2_5WR2cY9p"
      },
      "source": [
        "### Fitting the Logistic Model on Two  Variables\n",
        "\n",
        "We will fit the logistic model on the two variables `size_unif` and `marg` that we were looking at earlier."
      ]
    },
    {
      "cell_type": "code",
      "metadata": {
        "id": "WQPUSMlTcY9q",
        "colab": {
          "base_uri": "https://localhost:8080/"
        },
        "outputId": "cd725532-4fbc-423c-92b0-a7dee872284a"
      },
      "source": [
        "# load data \n",
        "xnames =['size_unif','marg'] \n",
        "X = np.array(df[xnames])\n",
        "print(X.shape)"
      ],
      "execution_count": null,
      "outputs": [
        {
          "output_type": "stream",
          "name": "stdout",
          "text": [
            "(683, 2)\n"
          ]
        }
      ]
    },
    {
      "cell_type": "markdown",
      "metadata": {
        "id": "zvgB0iCCcY9q"
      },
      "source": [
        "Next we split the data into training and test"
      ]
    },
    {
      "cell_type": "code",
      "metadata": {
        "id": "2oC7pomCcY9q"
      },
      "source": [
        "# Split into training and test\n",
        "from sklearn.model_selection import train_test_split\n",
        "Xtr, Xts, ytr, yts = train_test_split(X,y, test_size=0.30)"
      ],
      "execution_count": null,
      "outputs": []
    },
    {
      "cell_type": "markdown",
      "metadata": {
        "id": "Qr4ru1WYcY9v"
      },
      "source": [
        "**Logistic regression in scikit-learn**\n",
        "\n",
        "The actual fitting is easy with the `sklearn` package.  The parameter `C` \n",
        "states the level of inverse regularization strength with higher values meaning less regularization. Right now, we will select a high value to minimally regularize the estimate.\n",
        "\n",
        "We can also measure the accuracy on the test data. You should get an accuracy around 90%. "
      ]
    },
    {
      "cell_type": "code",
      "metadata": {
        "id": "lKGhsUYfzUx3",
        "colab": {
          "base_uri": "https://localhost:8080/"
        },
        "outputId": "5e7d06b7-b3ff-44a8-b7de-9d5c8dd3a668"
      },
      "source": [
        "from sklearn import datasets, linear_model, preprocessing\n",
        "reg = linear_model.LogisticRegression(C=1e5)\n",
        "reg.fit(Xtr, ytr)\n",
        "\n",
        "print(reg.coef_)\n",
        "print(reg.intercept_)\n",
        "\n",
        "yhat = reg.predict(Xts)\n",
        "acc = np.mean(yhat == yts)\n",
        "print(\"Accuracy on test data = %f\" % acc)"
      ],
      "execution_count": null,
      "outputs": [
        {
          "output_type": "stream",
          "name": "stdout",
          "text": [
            "[[1.24453347 0.71188087]]\n",
            "[-5.86852986]\n",
            "Accuracy on test data = 0.912195\n"
          ]
        }
      ]
    },
    {
      "cell_type": "markdown",
      "metadata": {
        "id": "dOhsTYG6zXDk"
      },
      "source": [
        "**Instead of taking this approach, we will implement the regression function using gradient descent.**"
      ]
    },
    {
      "cell_type": "markdown",
      "metadata": {
        "id": "KCTbi1wTcbIn"
      },
      "source": [
        "### Question 2a. Gradient descent for logistic regression [20 pts]\n",
        "In the class we saw that the weight vector can be found by minimizing the negative log likelihood over $N$ training samples.  The negative log likelihood is called the *loss* function.  For the logistic regression problem, the loss function simplifies to\n",
        "\n",
        "$$L(\\mathbf{w}) = - \\sum_{i=1}^N y_i \\log \\sigma(\\mathbf{w}^T\\mathbf{x}_i+b) + (1-y_i)\\log [1-\\sigma(\\mathbf{w}^T\\mathbf{x}_i+b)].$$\n",
        "\n",
        "Gradient can be computed as $$\\nabla_\\mathbf{w}L = \\sum_{i=1}^N(\\sigma(\\mathbf{w}^T\\mathbf{x}_i)-y_i)\\mathbf{x}_i ,~~~ \\nabla_b L = \\sum_{i=1}^N(\\sigma(\\mathbf{w}^T\\mathbf{x}_i)-y_i).$$\n",
        "\n",
        "\n",
        "We can update $\\mathbf{w},b$ at every iteration as  \n",
        "$$ \\mathbf{w} \\gets \\mathbf{w} - \\alpha \\nabla_\\mathbf{w}L, \\\\ b \\gets b - \\alpha \\nabla_b L.$$ \n",
        "\n",
        "**Note that we could also append the constant term in $\\mathbf{w}$ and append 1 to every $\\mathbf{x}_i$ accordingly, but we kept them separate in the expressions above.**\n",
        "\n",
        " "
      ]
    },
    {
      "cell_type": "markdown",
      "metadata": {
        "id": "QNa10nUiS5ru"
      },
      "source": [
        "**Gradient descent function implementation** \n",
        "\n",
        "We will use this loss function and gradient to implement a gradient descent-based method for logistic regression.\n",
        "\n",
        "Recall that training a logistic function means finding a weight vector `w` for the classification rule:\n",
        "\n",
        "    P(y=1|x,w) = 1/(1+\\exp(-z)), z = w[0]+w[1]*x[1] + ... + w[d]x[d]\n",
        "    \n",
        "The function implemented should follow the following format:\n",
        "```python\n",
        "def logistic_regression_gd(X,y,learning_rate = 0.001,max_iter=1000,tol=pow(10,-5)):\n",
        "```\n",
        "Where `X` is the training data feature(s), `y` is the variable to be predicted, `learning_rate` is the learning rate used ($\\alpha$ in the slides), `max_iter` defines the maximum number of iterations that gradient descent is allowed to run, and `tol` is defining the tolerance for convergence (which we'll discuss next).\n",
        "\n",
        "The return values for the above function should be (at the least) 1) `w` which are the regression parameters, 2) `all_cost` which is an array where each position contains the value of the objective function $L(\\mathbf{w})$ for a given iteration, 3) `iters` which counts how many iterations did the algorithm need in order to converge to a solution.\n",
        "\n",
        "Gradient descent is an iterative algorithm; it keeps updating the variables until a convergence criterion is met. In our case, our convergence criterion is whichever of the following two criteria happens first:\n",
        "\n",
        "- The maximum number of iterations is met\n",
        "- The relative improvement in the cost is not greater than the tolerance we have specified. For this criterion, you may use the following snippet into your code:\n",
        "```python\n",
        "np.absolute(all_cost[it] - all_cost[it-1])/all_cost[it-1] <= tol\n",
        "```"
      ]
    },
    {
      "cell_type": "code",
      "metadata": {
        "id": "SRDxzsZk8ck_"
      },
      "source": [
        "# TODO \n",
        "# Your code for logistic regression via gradient descent goes here \n",
        "#b is a scalar value\n",
        "#w is not a scalar value\n",
        "import math\n",
        "def sigmoid_loss(this_X,w,b):\n",
        "  z = np.dot(this_X, w) + b\n",
        "\n",
        "  return 1 / (1 + math.e**-z)\n",
        "\n",
        "\n",
        "def sigmoid_gd(w,this_X):\n",
        "  z = np.dot(this_X, w)\n",
        "\n",
        "  return 1 / (1 + math.e**-z)\n",
        "\n",
        "\n",
        "def compute_cost(X,w,y,b):\n",
        "    # your code for the loss function goes here \n",
        "    loss_sigmoid = sigmoid_loss(X,w,b)\n",
        "\n",
        "    L = -np.sum(y * np.log(loss_sigmoid) + (1 - y) * np.log(1 - loss_sigmoid))\n",
        "\n",
        "\n",
        "    return L\n",
        "\n",
        "def logistic_regression_gd(X,y,learning_rate = 0.00001,max_iter=1000,tol=pow(10,-5)):\n",
        "    # your code goes here \n",
        "    iters = 0\n",
        "    w=np.ones(2)\n",
        "    b = 0\n",
        "    all_cost = []\n",
        "\n",
        "    for i in range(len(X)) :\n",
        "      iters+=1\n",
        "      gradient_sigmoid = sigmoid_gd(w,X[i])\n",
        "\n",
        "      gradient_w = np.sum(np.dot((gradient_sigmoid - y), X))\n",
        "      gradient_b = np.sum(gradient_sigmoid - y)\n",
        "\n",
        "      w = w - learning_rate * gradient_w\n",
        "      b = b - learning_rate * gradient_b\n",
        "\n",
        "      all_cost.append(compute_cost(X,w,y,b))\n",
        "      #print(w)\n",
        "\n",
        "    return w, all_cost, iters\n",
        "\n",
        "\n",
        "#(w, all_cost,iters) = logistic_regression_gd(Xtr,ytr,learning_rate = 0.001,max_iter = 1000, tol=pow(10,-6))  \n",
        "#print(w)"
      ],
      "execution_count": null,
      "outputs": []
    },
    {
      "cell_type": "markdown",
      "metadata": {
        "id": "08r6_M-98clK"
      },
      "source": [
        "### Question 2b: Convergence plots and test accuracy [10 pts]\n",
        "\n",
        "After implementing gradient descent for logistic regression, we would like to test that indeed our algorithm converges to a solution. In order see this, we are going to look at the value of the objective/loss function $L(\\mathbf{w})$ as a function of the number of iterations, and ideally, what we would like to see is $L(\\mathbf{w})$ drops as we run more iterations, and eventually it stabilizes. \n",
        "\n",
        "The learning rate plays a big role in how fast our algorithm converges: a larger learning rate means that the algorithm is making faster strides to the solution, whereas a smaller learning rate implies slower steps. In this question we are going to test two different values for the learning rate:\n",
        "- 0.001\n",
        "- 0.00001\n",
        "\n",
        "while keeping the default values for the max number of iterations and the tolerance.\n",
        "\n",
        "\n",
        "- Plot the two convergence plots (cost vs. iterations)\n",
        "- Calculate the accuracy of classifier on the test data `Xts` \n",
        "- What do you observe? \n"
      ]
    },
    {
      "cell_type": "markdown",
      "metadata": {
        "id": "2XWJPz_uU1zT"
      },
      "source": [
        "**Calculate accuracy of your classifier on test data**\n",
        "\n",
        "To calculate the accuracy of our classifier on the test data, we can create a predict method. \n",
        "\n",
        "Implement a function `predict(X,w)` that provides you label 1 if $\\mathbf{w}^T\\mathbf{x} + b > 0$ and 0 otherwise.  "
      ]
    },
    {
      "cell_type": "code",
      "metadata": {
        "id": "uFyHcnVFVD4r"
      },
      "source": [
        "# TODO \n",
        "# Predict on test samples and measure accuracy\n",
        "def predict(X,w):\n",
        "  # your code goes here\n",
        "  yhat = [] \n",
        "  for i in range(len(X)) :\n",
        "    if np.dot(w.transpose(), X[i]) > 0 :\n",
        "      yhat.append(1)\n",
        "\n",
        "    else :\n",
        "      yhat.append(0)\n",
        "\n",
        "  return yhat"
      ],
      "execution_count": null,
      "outputs": []
    },
    {
      "cell_type": "code",
      "metadata": {
        "id": "P7KAVMGV8clL",
        "colab": {
          "base_uri": "https://localhost:8080/",
          "height": 608
        },
        "outputId": "fd93eea2-f172-4e05-e6aa-7f37a487078f"
      },
      "source": [
        "# TODO \n",
        "# test gradient descent with step size 0.001\n",
        "# test gradient descent with step size 0.00001\n",
        " \n",
        "(w, all_cost,iters) = logistic_regression_gd(Xtr,ytr,learning_rate = 0.001,max_iter = 1000, tol=pow(10,-6))  \n",
        "plt.figure(0)\n",
        "plt.semilogy(all_cost[0:iters])    \n",
        "plt.grid()\n",
        "plt.xlabel('Iteration')\n",
        "plt.ylabel('Training loss')\n",
        "plt.title('Learning rate of 0.001')\n",
        "\n",
        "yhat = predict(Xts,w)\n",
        "acc = np.mean(yhat == yts)\n",
        "print(\"Test accuracy = %f\" % acc)\n",
        "\n",
        "plt.figure(1)\n",
        "(w, all_cost,iters) = logistic_regression_gd(Xtr,ytr,learning_rate = 0.00001,max_iter = 1000, tol=pow(10,-6))  \n",
        "plt.semilogy(all_cost[0:iters])    \n",
        "plt.grid()\n",
        "plt.xlabel('Iteration')\n",
        "plt.ylabel('Training loss')\n",
        "plt.title('Learning rate of 0.00001')\n",
        "\n",
        "yhat = predict(Xts,w)\n",
        "acc = np.mean(yhat == yts)\n",
        "print(\"Test accuracy = %f\" % acc)\n",
        "\n",
        "\n",
        "# complete the rest "
      ],
      "execution_count": null,
      "outputs": [
        {
          "output_type": "stream",
          "name": "stdout",
          "text": [
            "Test accuracy = 0.346341\n",
            "Test accuracy = 0.346341\n"
          ]
        },
        {
          "output_type": "display_data",
          "data": {
            "text/plain": [
              "<Figure size 432x288 with 1 Axes>"
            ],
            "image/png": "[encoded data removed]"
          },
          "metadata": {
            "needs_background": "light"
          }
        },
        {
          "output_type": "display_data",
          "data": {
            "text/plain": [
              "<Figure size 432x288 with 1 Axes>"
            ],
            "image/png": "[encoded data removed]"
          },
          "metadata": {
            "needs_background": "light"
          }
        }
      ]
    },
    {
      "cell_type": "markdown",
      "metadata": {
        "id": "Zu5HpI_-8clL"
      },
      "source": [
        "Observations: \n",
        "\n",
        "1. A smaller learning rate results in a much more logical looking training loss graph\n",
        "1.  The larger learning rate is completely wrong "
      ]
    },
    {
      "cell_type": "markdown",
      "source": [
        "---\n",
        "## Submission instructions\n",
        "1. Download this Colab to ipynb, and convert it to PDF. Follow similar steps as [here](https://stackoverflow.com/questions/53460051/convert-ipynb-notebook-to-html-in-google-colab) but convert to PDF.\n",
        " - Download your .ipynb file. You can do it using only Google Colab. `File` -> `Download` -> `Download .ipynb`\n",
        " - Reupload it so Colab can see it. Click on the `Files` icon on the far left to expand the side bar. You can directly drag the downloaded .ipynb file to the area. Or click `Upload to session storage` icon and then select & upload your .ipynb file.\n",
        " - Conversion using %%shell. \n",
        " ```\n",
        "!sudo apt-get update\n",
        "!sudo apt-get install texlive-xetex texlive-fonts-recommended texlive-generic-recommended\n",
        "!jupyter nbconvert --log-level CRITICAL --to pdf name_of_hw.ipynb\n",
        "  ```\n",
        " - Your PDF file is ready. Click 3 dots and `Download`.\n",
        "\n",
        "\n",
        "  \n",
        "\n",
        "2. Upload the PDF to Gradescope, select the correct pdf pages for each question. **Important!**\n",
        "\n",
        "3. Upload the ipynb file to Gradescope"
      ],
      "metadata": {
        "id": "WecX82dMRrVo"
      }
    },
    {
      "cell_type": "code",
      "source": [
        "!sudo apt-get update\n",
        "!sudo apt-get install texlive-xetex texlive-fonts-recommended texlive-generic-recommended"
      ],
      "metadata": {
        "id": "ub1l1I4ZRqSS",
        "colab": {
          "base_uri": "https://localhost:8080/"
        },
        "outputId": "347733bc-b4e8-4c5c-89c5-3410dd303037"
      },
      "execution_count": null,
      "outputs": [
        {
          "output_type": "stream",
          "name": "stdout",
          "text": [
            "\r0% [Working]\r            \rIgn:1 https://developer.download.nvidia.com/compute/machine-learning/repos/ubuntu1804/x86_64  InRelease\n",
            "\r0% [Connecting to archive.ubuntu.com (91.189.91.38)] [Connecting to security.ub\r                                                                               \rGet:2 https://cloud.r-project.org/bin/linux/ubuntu bionic-cran40/ InRelease [3,626 B]\n",
            "\r0% [Waiting for headers] [Connecting to security.ubuntu.com] [2 InRelease 0 B/3\r0% [Waiting for headers] [Connecting to security.ubuntu.com] [Waiting for heade\r                                                                               \rHit:3 https://developer.download.nvidia.com/compute/cuda/repos/ubuntu1804/x86_64  InRelease\n",
            "\r0% [Waiting for headers] [Connecting to security.ubuntu.com] [Connecting to ppa\r0% [2 InRelease gpgv 3,626 B] [Waiting for headers] [Connecting to security.ubu\r                                                                               \rHit:4 https://developer.download.nvidia.com/compute/machine-learning/repos/ubuntu1804/x86_64  Release\n",
            "Hit:5 http://archive.ubuntu.com/ubuntu bionic InRelease\n",
            "Get:6 http://archive.ubuntu.com/ubuntu bionic-updates InRelease [88.7 kB]\n",
            "Hit:8 http://ppa.launchpad.net/c2d4u.team/c2d4u4.0+/ubuntu bionic InRelease\n",
            "Get:9 http://security.ubuntu.com/ubuntu bionic-security InRelease [88.7 kB]\n",
            "Get:10 http://archive.ubuntu.com/ubuntu bionic-backports InRelease [83.3 kB]\n",
            "Hit:11 http://ppa.launchpad.net/cran/libgit2/ubuntu bionic InRelease\n",
            "Get:12 http://archive.ubuntu.com/ubuntu bionic-updates/restricted amd64 Packages [1,257 kB]\n",
            "Get:13 http://ppa.launchpad.net/deadsnakes/ppa/ubuntu bionic InRelease [15.9 kB]\n",
            "Get:14 http://archive.ubuntu.com/ubuntu bionic-updates/universe amd64 Packages [2,332 kB]\n",
            "Get:15 http://security.ubuntu.com/ubuntu bionic-security/restricted amd64 Packages [1,217 kB]\n",
            "Get:16 http://archive.ubuntu.com/ubuntu bionic-updates/main amd64 Packages [3,467 kB]\n",
            "Hit:17 http://ppa.launchpad.net/graphics-drivers/ppa/ubuntu bionic InRelease\n",
            "Fetched 8,553 kB in 2s (4,256 kB/s)\n",
            "Reading package lists... Done\n",
            "Reading package lists... Done\n",
            "Building dependency tree       \n",
            "Reading state information... Done\n",
            "The following package was automatically installed and is no longer required:\n",
            "  libnvidia-common-460\n",
            "Use 'sudo apt autoremove' to remove it.\n",
            "The following additional packages will be installed:\n",
            "  fonts-droid-fallback fonts-lato fonts-lmodern fonts-noto-mono fonts-texgyre\n",
            "  javascript-common libcupsfilters1 libcupsimage2 libgs9 libgs9-common\n",
            "  libijs-0.35 libjbig2dec0 libjs-jquery libkpathsea6 libpotrace0 libptexenc1\n",
            "  libruby2.5 libsynctex1 libtexlua52 libtexluajit2 libzzip-0-13 lmodern\n",
            "  poppler-data preview-latex-style rake ruby ruby-did-you-mean ruby-minitest\n",
            "  ruby-net-telnet ruby-power-assert ruby-test-unit ruby2.5\n",
            "  rubygems-integration t1utils tex-common tex-gyre texlive-base\n",
            "  texlive-binaries texlive-latex-base texlive-latex-extra\n",
            "  texlive-latex-recommended texlive-pictures texlive-plain-generic tipa\n",
            "Suggested packages:\n",
            "  fonts-noto apache2 | lighttpd | httpd poppler-utils ghostscript\n",
            "  fonts-japanese-mincho | fonts-ipafont-mincho fonts-japanese-gothic\n",
            "  | fonts-ipafont-gothic fonts-arphic-ukai fonts-arphic-uming fonts-nanum ri\n",
            "  ruby-dev bundler debhelper gv | postscript-viewer perl-tk xpdf-reader\n",
            "  | pdf-viewer texlive-fonts-recommended-doc texlive-latex-base-doc\n",
            "  python-pygments icc-profiles libfile-which-perl\n",
            "  libspreadsheet-parseexcel-perl texlive-latex-extra-doc\n",
            "  texlive-latex-recommended-doc texlive-pstricks dot2tex prerex ruby-tcltk\n",
            "  | libtcltk-ruby texlive-pictures-doc vprerex\n",
            "The following NEW packages will be installed:\n",
            "  fonts-droid-fallback fonts-lato fonts-lmodern fonts-noto-mono fonts-texgyre\n",
            "  javascript-common libcupsfilters1 libcupsimage2 libgs9 libgs9-common\n",
            "  libijs-0.35 libjbig2dec0 libjs-jquery libkpathsea6 libpotrace0 libptexenc1\n",
            "  libruby2.5 libsynctex1 libtexlua52 libtexluajit2 libzzip-0-13 lmodern\n",
            "  poppler-data preview-latex-style rake ruby ruby-did-you-mean ruby-minitest\n",
            "  ruby-net-telnet ruby-power-assert ruby-test-unit ruby2.5\n",
            "  rubygems-integration t1utils tex-common tex-gyre texlive-base\n",
            "  texlive-binaries texlive-fonts-recommended texlive-generic-recommended\n",
            "  texlive-latex-base texlive-latex-extra texlive-latex-recommended\n",
            "  texlive-pictures texlive-plain-generic texlive-xetex tipa\n",
            "0 upgraded, 47 newly installed, 0 to remove and 29 not upgraded.\n",
            "Need to get 146 MB of archives.\n",
            "After this operation, 460 MB of additional disk space will be used.\n",
            "Get:1 http://archive.ubuntu.com/ubuntu bionic/main amd64 fonts-droid-fallback all 1:6.0.1r16-1.1 [1,805 kB]\n",
            "Get:2 http://archive.ubuntu.com/ubuntu bionic/main amd64 fonts-lato all 2.0-2 [2,698 kB]\n",
            "Get:3 http://archive.ubuntu.com/ubuntu bionic/main amd64 poppler-data all 0.4.8-2 [1,479 kB]\n",
            "Get:4 http://archive.ubuntu.com/ubuntu bionic/main amd64 tex-common all 6.09 [33.0 kB]\n",
            "Get:5 http://archive.ubuntu.com/ubuntu bionic/main amd64 fonts-lmodern all 2.004.5-3 [4,551 kB]\n",
            "Get:6 http://archive.ubuntu.com/ubuntu bionic/main amd64 fonts-noto-mono all 20171026-2 [75.5 kB]\n",
            "Get:7 http://archive.ubuntu.com/ubuntu bionic/universe amd64 fonts-texgyre all 20160520-1 [8,761 kB]\n",
            "Get:8 http://archive.ubuntu.com/ubuntu bionic/main amd64 javascript-common all 11 [6,066 B]\n",
            "Get:9 http://archive.ubuntu.com/ubuntu bionic-updates/main amd64 libcupsfilters1 amd64 1.20.2-0ubuntu3.1 [108 kB]\n",
            "Get:10 http://archive.ubuntu.com/ubuntu bionic-updates/main amd64 libcupsimage2 amd64 2.2.7-1ubuntu2.9 [18.6 kB]\n",
            "Get:11 http://archive.ubuntu.com/ubuntu bionic/main amd64 libijs-0.35 amd64 0.35-13 [15.5 kB]\n",
            "Get:12 http://archive.ubuntu.com/ubuntu bionic/main amd64 libjbig2dec0 amd64 0.13-6 [55.9 kB]\n",
            "Get:13 http://archive.ubuntu.com/ubuntu bionic-updates/main amd64 libgs9-common all 9.26~dfsg+0-0ubuntu0.18.04.17 [5,092 kB]\n",
            "Get:14 http://archive.ubuntu.com/ubuntu bionic-updates/main amd64 libgs9 amd64 9.26~dfsg+0-0ubuntu0.18.04.17 [2,267 kB]\n",
            "Get:15 http://archive.ubuntu.com/ubuntu bionic/main amd64 libjs-jquery all 3.2.1-1 [152 kB]\n",
            "Get:16 http://archive.ubuntu.com/ubuntu bionic-updates/main amd64 libkpathsea6 amd64 2017.20170613.44572-8ubuntu0.1 [54.9 kB]\n",
            "Get:17 http://archive.ubuntu.com/ubuntu bionic/main amd64 libpotrace0 amd64 1.14-2 [17.4 kB]\n",
            "Get:18 http://archive.ubuntu.com/ubuntu bionic-updates/main amd64 libptexenc1 amd64 2017.20170613.44572-8ubuntu0.1 [34.5 kB]\n",
            "Get:19 http://archive.ubuntu.com/ubuntu bionic/main amd64 rubygems-integration all 1.11 [4,994 B]\n",
            "Get:20 http://archive.ubuntu.com/ubuntu bionic-updates/main amd64 ruby2.5 amd64 2.5.1-1ubuntu1.12 [48.6 kB]\n",
            "Get:21 http://archive.ubuntu.com/ubuntu bionic/main amd64 ruby amd64 1:2.5.1 [5,712 B]\n",
            "Get:22 http://archive.ubuntu.com/ubuntu bionic-updates/main amd64 rake all 12.3.1-1ubuntu0.1 [44.9 kB]\n",
            "Get:23 http://archive.ubuntu.com/ubuntu bionic/main amd64 ruby-did-you-mean all 1.2.0-2 [9,700 B]\n",
            "Get:24 http://archive.ubuntu.com/ubuntu bionic/main amd64 ruby-minitest all 5.10.3-1 [38.6 kB]\n",
            "Get:25 http://archive.ubuntu.com/ubuntu bionic/main amd64 ruby-net-telnet all 0.1.1-2 [12.6 kB]\n",
            "Get:26 http://archive.ubuntu.com/ubuntu bionic/main amd64 ruby-power-assert all 0.3.0-1 [7,952 B]\n",
            "Get:27 http://archive.ubuntu.com/ubuntu bionic/main amd64 ruby-test-unit all 3.2.5-1 [61.1 kB]\n",
            "Get:28 http://archive.ubuntu.com/ubuntu bionic-updates/main amd64 libruby2.5 amd64 2.5.1-1ubuntu1.12 [3,073 kB]\n",
            "Get:29 http://archive.ubuntu.com/ubuntu bionic-updates/main amd64 libsynctex1 amd64 2017.20170613.44572-8ubuntu0.1 [41.4 kB]\n",
            "Get:30 http://archive.ubuntu.com/ubuntu bionic-updates/main amd64 libtexlua52 amd64 2017.20170613.44572-8ubuntu0.1 [91.2 kB]\n",
            "Get:31 http://archive.ubuntu.com/ubuntu bionic-updates/main amd64 libtexluajit2 amd64 2017.20170613.44572-8ubuntu0.1 [230 kB]\n",
            "Get:32 http://archive.ubuntu.com/ubuntu bionic-updates/main amd64 libzzip-0-13 amd64 0.13.62-3.1ubuntu0.18.04.1 [26.0 kB]\n",
            "Get:33 http://archive.ubuntu.com/ubuntu bionic/main amd64 lmodern all 2.004.5-3 [9,631 kB]\n",
            "Get:34 http://archive.ubuntu.com/ubuntu bionic/main amd64 preview-latex-style all 11.91-1ubuntu1 [185 kB]\n",
            "Get:35 http://archive.ubuntu.com/ubuntu bionic/main amd64 t1utils amd64 1.41-2 [56.0 kB]\n",
            "Get:36 http://archive.ubuntu.com/ubuntu bionic/universe amd64 tex-gyre all 20160520-1 [4,998 kB]\n",
            "Get:37 http://archive.ubuntu.com/ubuntu bionic-updates/main amd64 texlive-binaries amd64 2017.20170613.44572-8ubuntu0.1 [8,179 kB]\n",
            "Get:38 http://archive.ubuntu.com/ubuntu bionic/main amd64 texlive-base all 2017.20180305-1 [18.7 MB]\n",
            "Get:39 http://archive.ubuntu.com/ubuntu bionic/universe amd64 texlive-fonts-recommended all 2017.20180305-1 [5,262 kB]\n",
            "Get:40 http://archive.ubuntu.com/ubuntu bionic/universe amd64 texlive-plain-generic all 2017.20180305-2 [23.6 MB]\n",
            "Get:41 http://archive.ubuntu.com/ubuntu bionic/universe amd64 texlive-generic-recommended all 2017.20180305-1 [15.9 kB]\n",
            "Get:42 http://archive.ubuntu.com/ubuntu bionic/main amd64 texlive-latex-base all 2017.20180305-1 [951 kB]\n",
            "Get:43 http://archive.ubuntu.com/ubuntu bionic/main amd64 texlive-latex-recommended all 2017.20180305-1 [14.9 MB]\n",
            "Get:44 http://archive.ubuntu.com/ubuntu bionic/universe amd64 texlive-pictures all 2017.20180305-1 [4,026 kB]\n",
            "Get:45 http://archive.ubuntu.com/ubuntu bionic/universe amd64 texlive-latex-extra all 2017.20180305-2 [10.6 MB]\n",
            "Get:46 http://archive.ubuntu.com/ubuntu bionic/universe amd64 tipa all 2:1.3-20 [2,978 kB]\n",
            "Get:47 http://archive.ubuntu.com/ubuntu bionic/universe amd64 texlive-xetex all 2017.20180305-1 [10.7 MB]\n",
            "Fetched 146 MB in 8s (17.1 MB/s)\n",
            "debconf: unable to initialize frontend: Dialog\n",
            "debconf: (No usable dialog-like program is installed, so the dialog based frontend cannot be used. at /usr/share/perl5/Debconf/FrontEnd/Dialog.pm line 76, <> line 47.)\n",
            "debconf: falling back to frontend: Readline\n",
            "debconf: unable to initialize frontend: Readline\n",
            "debconf: (This frontend requires a controlling tty.)\n",
            "debconf: falling back to frontend: Teletype\n",
            "dpkg-preconfigure: unable to re-open stdin: \n",
            "Selecting previously unselected package fonts-droid-fallback.\n",
            "(Reading database ... 123942 files and directories currently installed.)\n",
            "Preparing to unpack .../00-fonts-droid-fallback_1%3a6.0.1r16-1.1_all.deb ...\n",
            "Unpacking fonts-droid-fallback (1:6.0.1r16-1.1) ...\n",
            "Selecting previously unselected package fonts-lato.\n",
            "Preparing to unpack .../01-fonts-lato_2.0-2_all.deb ...\n",
            "Unpacking fonts-lato (2.0-2) ...\n",
            "Selecting previously unselected package poppler-data.\n",
            "Preparing to unpack .../02-poppler-data_0.4.8-2_all.deb ...\n",
            "Unpacking poppler-data (0.4.8-2) ...\n",
            "Selecting previously unselected package tex-common.\n",
            "Preparing to unpack .../03-tex-common_6.09_all.deb ...\n",
            "Unpacking tex-common (6.09) ...\n",
            "Selecting previously unselected package fonts-lmodern.\n",
            "Preparing to unpack .../04-fonts-lmodern_2.004.5-3_all.deb ...\n",
            "Unpacking fonts-lmodern (2.004.5-3) ...\n",
            "Selecting previously unselected package fonts-noto-mono.\n",
            "Preparing to unpack .../05-fonts-noto-mono_20171026-2_all.deb ...\n",
            "Unpacking fonts-noto-mono (20171026-2) ...\n",
            "Selecting previously unselected package fonts-texgyre.\n",
            "Preparing to unpack .../06-fonts-texgyre_20160520-1_all.deb ...\n",
            "Unpacking fonts-texgyre (20160520-1) ...\n",
            "Selecting previously unselected package javascript-common.\n",
            "Preparing to unpack .../07-javascript-common_11_all.deb ...\n",
            "Unpacking javascript-common (11) ...\n",
            "Selecting previously unselected package libcupsfilters1:amd64.\n",
            "Preparing to unpack .../08-libcupsfilters1_1.20.2-0ubuntu3.1_amd64.deb ...\n",
            "Unpacking libcupsfilters1:amd64 (1.20.2-0ubuntu3.1) ...\n",
            "Selecting previously unselected package libcupsimage2:amd64.\n",
            "Preparing to unpack .../09-libcupsimage2_2.2.7-1ubuntu2.9_amd64.deb ...\n",
            "Unpacking libcupsimage2:amd64 (2.2.7-1ubuntu2.9) ...\n",
            "Selecting previously unselected package libijs-0.35:amd64.\n",
            "Preparing to unpack .../10-libijs-0.35_0.35-13_amd64.deb ...\n",
            "Unpacking libijs-0.35:amd64 (0.35-13) ...\n",
            "Selecting previously unselected package libjbig2dec0:amd64.\n",
            "Preparing to unpack .../11-libjbig2dec0_0.13-6_amd64.deb ...\n",
            "Unpacking libjbig2dec0:amd64 (0.13-6) ...\n",
            "Selecting previously unselected package libgs9-common.\n",
            "Preparing to unpack .../12-libgs9-common_9.26~dfsg+0-0ubuntu0.18.04.17_all.deb ...\n",
            "Unpacking libgs9-common (9.26~dfsg+0-0ubuntu0.18.04.17) ...\n",
            "Selecting previously unselected package libgs9:amd64.\n",
            "Preparing to unpack .../13-libgs9_9.26~dfsg+0-0ubuntu0.18.04.17_amd64.deb ...\n",
            "Unpacking libgs9:amd64 (9.26~dfsg+0-0ubuntu0.18.04.17) ...\n",
            "Selecting previously unselected package libjs-jquery.\n",
            "Preparing to unpack .../14-libjs-jquery_3.2.1-1_all.deb ...\n",
            "Unpacking libjs-jquery (3.2.1-1) ...\n",
            "Selecting previously unselected package libkpathsea6:amd64.\n",
            "Preparing to unpack .../15-libkpathsea6_2017.20170613.44572-8ubuntu0.1_amd64.deb ...\n",
            "Unpacking libkpathsea6:amd64 (2017.20170613.44572-8ubuntu0.1) ...\n",
            "Selecting previously unselected package libpotrace0.\n",
            "Preparing to unpack .../16-libpotrace0_1.14-2_amd64.deb ...\n",
            "Unpacking libpotrace0 (1.14-2) ...\n",
            "Selecting previously unselected package libptexenc1:amd64.\n",
            "Preparing to unpack .../17-libptexenc1_2017.20170613.44572-8ubuntu0.1_amd64.deb ...\n",
            "Unpacking libptexenc1:amd64 (2017.20170613.44572-8ubuntu0.1) ...\n",
            "Selecting previously unselected package rubygems-integration.\n",
            "Preparing to unpack .../18-rubygems-integration_1.11_all.deb ...\n",
            "Unpacking rubygems-integration (1.11) ...\n",
            "Selecting previously unselected package ruby2.5.\n",
            "Preparing to unpack .../19-ruby2.5_2.5.1-1ubuntu1.12_amd64.deb ...\n",
            "Unpacking ruby2.5 (2.5.1-1ubuntu1.12) ...\n",
            "Selecting previously unselected package ruby.\n",
            "Preparing to unpack .../20-ruby_1%3a2.5.1_amd64.deb ...\n",
            "Unpacking ruby (1:2.5.1) ...\n",
            "Selecting previously unselected package rake.\n",
            "Preparing to unpack .../21-rake_12.3.1-1ubuntu0.1_all.deb ...\n",
            "Unpacking rake (12.3.1-1ubuntu0.1) ...\n",
            "Selecting previously unselected package ruby-did-you-mean.\n",
            "Preparing to unpack .../22-ruby-did-you-mean_1.2.0-2_all.deb ...\n",
            "Unpacking ruby-did-you-mean (1.2.0-2) ...\n",
            "Selecting previously unselected package ruby-minitest.\n",
            "Preparing to unpack .../23-ruby-minitest_5.10.3-1_all.deb ...\n",
            "Unpacking ruby-minitest (5.10.3-1) ...\n",
            "Selecting previously unselected package ruby-net-telnet.\n",
            "Preparing to unpack .../24-ruby-net-telnet_0.1.1-2_all.deb ...\n",
            "Unpacking ruby-net-telnet (0.1.1-2) ...\n",
            "Selecting previously unselected package ruby-power-assert.\n",
            "Preparing to unpack .../25-ruby-power-assert_0.3.0-1_all.deb ...\n",
            "Unpacking ruby-power-assert (0.3.0-1) ...\n",
            "Selecting previously unselected package ruby-test-unit.\n",
            "Preparing to unpack .../26-ruby-test-unit_3.2.5-1_all.deb ...\n",
            "Unpacking ruby-test-unit (3.2.5-1) ...\n",
            "Selecting previously unselected package libruby2.5:amd64.\n",
            "Preparing to unpack .../27-libruby2.5_2.5.1-1ubuntu1.12_amd64.deb ...\n",
            "Unpacking libruby2.5:amd64 (2.5.1-1ubuntu1.12) ...\n",
            "Selecting previously unselected package libsynctex1:amd64.\n",
            "Preparing to unpack .../28-libsynctex1_2017.20170613.44572-8ubuntu0.1_amd64.deb ...\n",
            "Unpacking libsynctex1:amd64 (2017.20170613.44572-8ubuntu0.1) ...\n",
            "Selecting previously unselected package libtexlua52:amd64.\n",
            "Preparing to unpack .../29-libtexlua52_2017.20170613.44572-8ubuntu0.1_amd64.deb ...\n",
            "Unpacking libtexlua52:amd64 (2017.20170613.44572-8ubuntu0.1) ...\n",
            "Selecting previously unselected package libtexluajit2:amd64.\n",
            "Preparing to unpack .../30-libtexluajit2_2017.20170613.44572-8ubuntu0.1_amd64.deb ...\n",
            "Unpacking libtexluajit2:amd64 (2017.20170613.44572-8ubuntu0.1) ...\n",
            "Selecting previously unselected package libzzip-0-13:amd64.\n",
            "Preparing to unpack .../31-libzzip-0-13_0.13.62-3.1ubuntu0.18.04.1_amd64.deb ...\n",
            "Unpacking libzzip-0-13:amd64 (0.13.62-3.1ubuntu0.18.04.1) ...\n",
            "Selecting previously unselected package lmodern.\n",
            "Preparing to unpack .../32-lmodern_2.004.5-3_all.deb ...\n",
            "Unpacking lmodern (2.004.5-3) ...\n",
            "Selecting previously unselected package preview-latex-style.\n",
            "Preparing to unpack .../33-preview-latex-style_11.91-1ubuntu1_all.deb ...\n",
            "Unpacking preview-latex-style (11.91-1ubuntu1) ...\n",
            "Selecting previously unselected package t1utils.\n",
            "Preparing to unpack .../34-t1utils_1.41-2_amd64.deb ...\n",
            "Unpacking t1utils (1.41-2) ...\n",
            "Selecting previously unselected package tex-gyre.\n",
            "Preparing to unpack .../35-tex-gyre_20160520-1_all.deb ...\n",
            "Unpacking tex-gyre (20160520-1) ...\n",
            "Selecting previously unselected package texlive-binaries.\n",
            "Preparing to unpack .../36-texlive-binaries_2017.20170613.44572-8ubuntu0.1_amd64.deb ...\n",
            "Unpacking texlive-binaries (2017.20170613.44572-8ubuntu0.1) ...\n",
            "Selecting previously unselected package texlive-base.\n",
            "Preparing to unpack .../37-texlive-base_2017.20180305-1_all.deb ...\n",
            "Unpacking texlive-base (2017.20180305-1) ...\n",
            "Selecting previously unselected package texlive-fonts-recommended.\n",
            "Preparing to unpack .../38-texlive-fonts-recommended_2017.20180305-1_all.deb ...\n",
            "Unpacking texlive-fonts-recommended (2017.20180305-1) ...\n",
            "Selecting previously unselected package texlive-plain-generic.\n",
            "Preparing to unpack .../39-texlive-plain-generic_2017.20180305-2_all.deb ...\n",
            "Unpacking texlive-plain-generic (2017.20180305-2) ...\n",
            "Selecting previously unselected package texlive-generic-recommended.\n",
            "Preparing to unpack .../40-texlive-generic-recommended_2017.20180305-1_all.deb ...\n",
            "Unpacking texlive-generic-recommended (2017.20180305-1) ...\n",
            "Selecting previously unselected package texlive-latex-base.\n",
            "Preparing to unpack .../41-texlive-latex-base_2017.20180305-1_all.deb ...\n",
            "Unpacking texlive-latex-base (2017.20180305-1) ...\n",
            "Selecting previously unselected package texlive-latex-recommended.\n",
            "Preparing to unpack .../42-texlive-latex-recommended_2017.20180305-1_all.deb ...\n",
            "Unpacking texlive-latex-recommended (2017.20180305-1) ...\n",
            "Selecting previously unselected package texlive-pictures.\n",
            "Preparing to unpack .../43-texlive-pictures_2017.20180305-1_all.deb ...\n",
            "Unpacking texlive-pictures (2017.20180305-1) ...\n",
            "Selecting previously unselected package texlive-latex-extra.\n",
            "Preparing to unpack .../44-texlive-latex-extra_2017.20180305-2_all.deb ...\n",
            "Unpacking texlive-latex-extra (2017.20180305-2) ...\n",
            "Selecting previously unselected package tipa.\n",
            "Preparing to unpack .../45-tipa_2%3a1.3-20_all.deb ...\n",
            "Unpacking tipa (2:1.3-20) ...\n",
            "Selecting previously unselected package texlive-xetex.\n",
            "Preparing to unpack .../46-texlive-xetex_2017.20180305-1_all.deb ...\n",
            "Unpacking texlive-xetex (2017.20180305-1) ...\n",
            "Setting up libgs9-common (9.26~dfsg+0-0ubuntu0.18.04.17) ...\n",
            "Setting up libkpathsea6:amd64 (2017.20170613.44572-8ubuntu0.1) ...\n",
            "Setting up libjs-jquery (3.2.1-1) ...\n",
            "Setting up libtexlua52:amd64 (2017.20170613.44572-8ubuntu0.1) ...\n",
            "Setting up fonts-droid-fallback (1:6.0.1r16-1.1) ...\n",
            "Setting up libsynctex1:amd64 (2017.20170613.44572-8ubuntu0.1) ...\n",
            "Setting up libptexenc1:amd64 (2017.20170613.44572-8ubuntu0.1) ...\n",
            "Setting up tex-common (6.09) ...\n",
            "debconf: unable to initialize frontend: Dialog\n",
            "debconf: (No usable dialog-like program is installed, so the dialog based frontend cannot be used. at /usr/share/perl5/Debconf/FrontEnd/Dialog.pm line 76.)\n",
            "debconf: falling back to frontend: Readline\n",
            "update-language: texlive-base not installed and configured, doing nothing!\n",
            "Setting up poppler-data (0.4.8-2) ...\n",
            "Setting up tex-gyre (20160520-1) ...\n",
            "Setting up preview-latex-style (11.91-1ubuntu1) ...\n",
            "Setting up fonts-texgyre (20160520-1) ...\n",
            "Setting up fonts-noto-mono (20171026-2) ...\n",
            "Setting up fonts-lato (2.0-2) ...\n",
            "Setting up libcupsfilters1:amd64 (1.20.2-0ubuntu3.1) ...\n",
            "Setting up libcupsimage2:amd64 (2.2.7-1ubuntu2.9) ...\n",
            "Setting up libjbig2dec0:amd64 (0.13-6) ...\n",
            "Setting up ruby-did-you-mean (1.2.0-2) ...\n",
            "Setting up t1utils (1.41-2) ...\n",
            "Setting up ruby-net-telnet (0.1.1-2) ...\n",
            "Setting up libijs-0.35:amd64 (0.35-13) ...\n",
            "Setting up rubygems-integration (1.11) ...\n",
            "Setting up libpotrace0 (1.14-2) ...\n",
            "Setting up javascript-common (11) ...\n",
            "Setting up ruby-minitest (5.10.3-1) ...\n",
            "Setting up libzzip-0-13:amd64 (0.13.62-3.1ubuntu0.18.04.1) ...\n",
            "Setting up libgs9:amd64 (9.26~dfsg+0-0ubuntu0.18.04.17) ...\n",
            "Setting up libtexluajit2:amd64 (2017.20170613.44572-8ubuntu0.1) ...\n",
            "Setting up fonts-lmodern (2.004.5-3) ...\n",
            "Setting up ruby-power-assert (0.3.0-1) ...\n",
            "Setting up texlive-binaries (2017.20170613.44572-8ubuntu0.1) ...\n",
            "update-alternatives: using /usr/bin/xdvi-xaw to provide /usr/bin/xdvi.bin (xdvi.bin) in auto mode\n",
            "update-alternatives: using /usr/bin/bibtex.original to provide /usr/bin/bibtex (bibtex) in auto mode\n",
            "Setting up texlive-base (2017.20180305-1) ...\n",
            "mktexlsr: Updating /var/lib/texmf/ls-R-TEXLIVEDIST... \n",
            "mktexlsr: Updating /var/lib/texmf/ls-R-TEXMFMAIN... \n",
            "mktexlsr: Updating /var/lib/texmf/ls-R... \n",
            "mktexlsr: Done.\n",
            "tl-paper: setting paper size for dvips to a4: /var/lib/texmf/dvips/config/config-paper.ps\n",
            "tl-paper: setting paper size for dvipdfmx to a4: /var/lib/texmf/dvipdfmx/dvipdfmx-paper.cfg\n",
            "tl-paper: setting paper size for xdvi to a4: /var/lib/texmf/xdvi/XDvi-paper\n",
            "tl-paper: setting paper size for pdftex to a4: /var/lib/texmf/tex/generic/config/pdftexconfig.tex\n",
            "debconf: unable to initialize frontend: Dialog\n",
            "debconf: (No usable dialog-like program is installed, so the dialog based frontend cannot be used. at /usr/share/perl5/Debconf/FrontEnd/Dialog.pm line 76.)\n",
            "debconf: falling back to frontend: Readline\n",
            "Setting up texlive-fonts-recommended (2017.20180305-1) ...\n",
            "Setting up texlive-plain-generic (2017.20180305-2) ...\n",
            "Setting up texlive-generic-recommended (2017.20180305-1) ...\n",
            "Setting up texlive-latex-base (2017.20180305-1) ...\n",
            "Setting up lmodern (2.004.5-3) ...\n",
            "Setting up texlive-latex-recommended (2017.20180305-1) ...\n",
            "Setting up texlive-pictures (2017.20180305-1) ...\n",
            "Setting up tipa (2:1.3-20) ...\n",
            "Regenerating '/var/lib/texmf/fmtutil.cnf-DEBIAN'... done.\n",
            "Regenerating '/var/lib/texmf/fmtutil.cnf-TEXLIVEDIST'... done.\n",
            "update-fmtutil has updated the following file(s):\n",
            "\t/var/lib/texmf/fmtutil.cnf-DEBIAN\n",
            "\t/var/lib/texmf/fmtutil.cnf-TEXLIVEDIST\n",
            "If you want to activate the changes in the above file(s),\n",
            "you should run fmtutil-sys or fmtutil.\n",
            "Setting up texlive-latex-extra (2017.20180305-2) ...\n",
            "Setting up texlive-xetex (2017.20180305-1) ...\n",
            "Setting up ruby2.5 (2.5.1-1ubuntu1.12) ...\n",
            "Setting up ruby (1:2.5.1) ...\n",
            "Setting up ruby-test-unit (3.2.5-1) ...\n",
            "Setting up rake (12.3.1-1ubuntu0.1) ...\n",
            "Setting up libruby2.5:amd64 (2.5.1-1ubuntu1.12) ...\n",
            "Processing triggers for mime-support (3.60ubuntu1) ...\n",
            "Processing triggers for libc-bin (2.27-3ubuntu1.6) ...\n",
            "Processing triggers for man-db (2.8.3-2ubuntu0.1) ...\n",
            "Processing triggers for fontconfig (2.12.6-0ubuntu2) ...\n",
            "Processing triggers for tex-common (6.09) ...\n",
            "debconf: unable to initialize frontend: Dialog\n",
            "debconf: (No usable dialog-like program is installed, so the dialog based frontend cannot be used. at /usr/share/perl5/Debconf/FrontEnd/Dialog.pm line 76.)\n",
            "debconf: falling back to frontend: Readline\n",
            "Running updmap-sys. This may take some time... done.\n",
            "Running mktexlsr /var/lib/texmf ... done.\n",
            "Building format(s) --all.\n",
            "\tThis may take some time... done.\n"
          ]
        }
      ]
    },
    {
      "cell_type": "code",
      "source": [
        "!jupyter nbconvert --log-level CRITICAL --to pdf fall2022_hw2.ipynb # make sure the ipynb name is correct"
      ],
      "metadata": {
        "id": "M2XuF-qZ_-fk",
        "colab": {
          "base_uri": "https://localhost:8080/"
        },
        "outputId": "0d4aa7be-3828-4ae2-e417-018711305ab3"
      },
      "execution_count": null,
      "outputs": [
        {
          "output_type": "stream",
          "name": "stdout",
          "text": [
            "This application is used to convert notebook files (*.ipynb)\n",
            "        to various other formats.\n",
            "\n",
            "        WARNING: THE COMMANDLINE INTERFACE MAY CHANGE IN FUTURE RELEASES.\n",
            "\n",
            "Options\n",
            "=======\n",
            "The options below are convenience aliases to configurable class-options,\n",
            "as listed in the \"Equivalent to\" description-line of the aliases.\n",
            "To see all configurable class-options for some <cmd>, use:\n",
            "    <cmd> --help-all\n",
            "\n",
            "--debug\n",
            "    set log level to logging.DEBUG (maximize logging output)\n",
            "    Equivalent to: [--Application.log_level=10]\n",
            "--show-config\n",
            "    Show the application's configuration (human-readable format)\n",
            "    Equivalent to: [--Application.show_config=True]\n",
            "--show-config-json\n",
            "    Show the application's configuration (json format)\n",
            "    Equivalent to: [--Application.show_config_json=True]\n",
            "--generate-config\n",
            "    generate default config file\n",
            "    Equivalent to: [--JupyterApp.generate_config=True]\n",
            "-y\n",
            "    Answer yes to any questions instead of prompting.\n",
            "    Equivalent to: [--JupyterApp.answer_yes=True]\n",
            "--execute\n",
            "    Execute the notebook prior to export.\n",
            "    Equivalent to: [--ExecutePreprocessor.enabled=True]\n",
            "--allow-errors\n",
            "    Continue notebook execution even if one of the cells throws an error and include the error message in the cell output (the default behaviour is to abort conversion). This flag is only relevant if '--execute' was specified, too.\n",
            "    Equivalent to: [--ExecutePreprocessor.allow_errors=True]\n",
            "--stdin\n",
            "    read a single notebook file from stdin. Write the resulting notebook with default basename 'notebook.*'\n",
            "    Equivalent to: [--NbConvertApp.from_stdin=True]\n",
            "--stdout\n",
            "    Write notebook output to stdout instead of files.\n",
            "    Equivalent to: [--NbConvertApp.writer_class=StdoutWriter]\n",
            "--inplace\n",
            "    Run nbconvert in place, overwriting the existing notebook (only \n",
            "            relevant when converting to notebook format)\n",
            "    Equivalent to: [--NbConvertApp.use_output_suffix=False --NbConvertApp.export_format=notebook --FilesWriter.build_directory=]\n",
            "--clear-output\n",
            "    Clear output of current file and save in place, \n",
            "            overwriting the existing notebook.\n",
            "    Equivalent to: [--NbConvertApp.use_output_suffix=False --NbConvertApp.export_format=notebook --FilesWriter.build_directory= --ClearOutputPreprocessor.enabled=True]\n",
            "--no-prompt\n",
            "    Exclude input and output prompts from converted document.\n",
            "    Equivalent to: [--TemplateExporter.exclude_input_prompt=True --TemplateExporter.exclude_output_prompt=True]\n",
            "--no-input\n",
            "    Exclude input cells and output prompts from converted document. \n",
            "            This mode is ideal for generating code-free reports.\n",
            "    Equivalent to: [--TemplateExporter.exclude_output_prompt=True --TemplateExporter.exclude_input=True]\n",
            "--log-level=<Enum>\n",
            "    Set the log level by value or name.\n",
            "    Choices: any of [0, 10, 20, 30, 40, 50, 'DEBUG', 'INFO', 'WARN', 'ERROR', 'CRITICAL']\n",
            "    Default: 30\n",
            "    Equivalent to: [--Application.log_level]\n",
            "--config=<Unicode>\n",
            "    Full path of a config file.\n",
            "    Default: ''\n",
            "    Equivalent to: [--JupyterApp.config_file]\n",
            "--to=<Unicode>\n",
            "    The export format to be used, either one of the built-in formats\n",
            "            ['asciidoc', 'custom', 'html', 'latex', 'markdown', 'notebook', 'pdf', 'python', 'rst', 'script', 'slides']\n",
            "            or a dotted object name that represents the import path for an\n",
            "            `Exporter` class\n",
            "    Default: 'html'\n",
            "    Equivalent to: [--NbConvertApp.export_format]\n",
            "--template=<Unicode>\n",
            "    Name of the template file to use\n",
            "    Default: ''\n",
            "    Equivalent to: [--TemplateExporter.template_file]\n",
            "--writer=<DottedObjectName>\n",
            "    Writer class used to write the \n",
            "                                        results of the conversion\n",
            "    Default: 'FilesWriter'\n",
            "    Equivalent to: [--NbConvertApp.writer_class]\n",
            "--post=<DottedOrNone>\n",
            "    PostProcessor class used to write the\n",
            "                                        results of the conversion\n",
            "    Default: ''\n",
            "    Equivalent to: [--NbConvertApp.postprocessor_class]\n",
            "--output=<Unicode>\n",
            "    overwrite base name use for output files.\n",
            "                can only be used when converting one notebook at a time.\n",
            "    Default: ''\n",
            "    Equivalent to: [--NbConvertApp.output_base]\n",
            "--output-dir=<Unicode>\n",
            "    Directory to write output(s) to. Defaults\n",
            "                                  to output to the directory of each notebook. To recover\n",
            "                                  previous default behaviour (outputting to the current \n",
            "                                  working directory) use . as the flag value.\n",
            "    Default: ''\n",
            "    Equivalent to: [--FilesWriter.build_directory]\n",
            "--reveal-prefix=<Unicode>\n",
            "    The URL prefix for reveal.js (version 3.x).\n",
            "            This defaults to the reveal CDN, but can be any url pointing to a copy \n",
            "            of reveal.js. \n",
            "            For speaker notes to work, this must be a relative path to a local \n",
            "            copy of reveal.js: e.g., \"reveal.js\".\n",
            "            If a relative path is given, it must be a subdirectory of the\n",
            "            current directory (from which the server is run).\n",
            "            See the usage documentation\n",
            "            (https://nbconvert.readthedocs.io/en/latest/usage.html#reveal-js-html-slideshow)\n",
            "            for more details.\n",
            "    Default: ''\n",
            "    Equivalent to: [--SlidesExporter.reveal_url_prefix]\n",
            "--nbformat=<Enum>\n",
            "    The nbformat version to write.\n",
            "            Use this to downgrade notebooks.\n",
            "    Choices: any of [1, 2, 3, 4]\n",
            "    Default: 4\n",
            "    Equivalent to: [--NotebookExporter.nbformat_version]\n",
            "\n",
            "Examples\n",
            "--------\n",
            "\n",
            "    The simplest way to use nbconvert is\n",
            "\n",
            "            > jupyter nbconvert mynotebook.ipynb\n",
            "\n",
            "            which will convert mynotebook.ipynb to the default format (probably HTML).\n",
            "\n",
            "            You can specify the export format with `--to`.\n",
            "            Options include ['asciidoc', 'custom', 'html', 'latex', 'markdown', 'notebook', 'pdf', 'python', 'rst', 'script', 'slides'].\n",
            "\n",
            "            > jupyter nbconvert --to latex mynotebook.ipynb\n",
            "\n",
            "            Both HTML and LaTeX support multiple output templates. LaTeX includes\n",
            "            'base', 'article' and 'report'.  HTML includes 'basic' and 'full'. You\n",
            "            can specify the flavor of the format used.\n",
            "\n",
            "            > jupyter nbconvert --to html --template basic mynotebook.ipynb\n",
            "\n",
            "            You can also pipe the output to stdout, rather than a file\n",
            "\n",
            "            > jupyter nbconvert mynotebook.ipynb --stdout\n",
            "\n",
            "            PDF is generated via latex\n",
            "\n",
            "            > jupyter nbconvert mynotebook.ipynb --to pdf\n",
            "\n",
            "            You can get (and serve) a Reveal.js-powered slideshow\n",
            "\n",
            "            > jupyter nbconvert myslides.ipynb --to slides --post serve\n",
            "\n",
            "            Multiple notebooks can be given at the command line in a couple of \n",
            "            different ways:\n",
            "\n",
            "            > jupyter nbconvert notebook*.ipynb\n",
            "            > jupyter nbconvert notebook1.ipynb notebook2.ipynb\n",
            "\n",
            "            or you can specify the notebooks list in a config file, containing::\n",
            "\n",
            "                c.NbConvertApp.notebooks = [\"my_notebook.ipynb\"]\n",
            "\n",
            "            > jupyter nbconvert --config mycfg.py\n",
            "\n",
            "To see all available configurables, use `--help-all`.\n",
            "\n"
          ]
        }
      ]
    },
    {
      "cell_type": "code",
      "source": [],
      "metadata": {
        "id": "kMCJzii39h4d"
      },
      "execution_count": null,
      "outputs": []
    }
  ]
}